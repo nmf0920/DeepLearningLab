{
  "nbformat": 4,
  "nbformat_minor": 0,
  "metadata": {
    "colab": {
      "provenance": [],
      "include_colab_link": true
    },
    "kernelspec": {
      "name": "python3",
      "display_name": "Python 3"
    },
    "language_info": {
      "name": "python"
    }
  },
  "cells": [
    {
      "cell_type": "markdown",
      "metadata": {
        "id": "view-in-github",
        "colab_type": "text"
      },
      "source": [
        "<a href=\"https://colab.research.google.com/github/TaXueGeXing/Pytorch/blob/main/Deep_Learning_Lab_1.ipynb\" target=\"_parent\"><img src=\"https://colab.research.google.com/assets/colab-badge.svg\" alt=\"Open In Colab\"/></a>"
      ]
    },
    {
      "cell_type": "code",
      "execution_count": 51,
      "metadata": {
        "id": "UzkeIh4rkAZJ"
      },
      "outputs": [],
      "source": [
        "import torch\n",
        "import torch.nn as nn\n",
        "import numpy as np"
      ]
    },
    {
      "cell_type": "code",
      "source": [
        "a = np.ones(5)\n",
        "b = torch.from_numpy(a)"
      ],
      "metadata": {
        "id": "6I4cuPavlC9m"
      },
      "execution_count": 52,
      "outputs": []
    },
    {
      "cell_type": "code",
      "source": [
        "print(a)\n",
        "print(b)"
      ],
      "metadata": {
        "colab": {
          "base_uri": "https://localhost:8080/"
        },
        "id": "lqHoDUzflA_V",
        "outputId": "363413d6-aa69-4d0f-cbdf-0bd7929ab100"
      },
      "execution_count": 53,
      "outputs": [
        {
          "output_type": "stream",
          "name": "stdout",
          "text": [
            "[1. 1. 1. 1. 1.]\n",
            "tensor([1., 1., 1., 1., 1.], dtype=torch.float64)\n"
          ]
        }
      ]
    },
    {
      "cell_type": "markdown",
      "source": [
        "This just a normal test for taking skill for pytorch."
      ],
      "metadata": {
        "id": "um6rZP5FmZmz"
      }
    },
    {
      "cell_type": "code",
      "source": [
        "matrix_z = torch.zeros(5, 3)\n",
        "print(matrix_z)\n",
        "print(matrix_z.dtype)"
      ],
      "metadata": {
        "colab": {
          "base_uri": "https://localhost:8080/"
        },
        "id": "4X9ddlsgmgsa",
        "outputId": "b725e438-7486-46cd-f7f1-9f3916b481c3"
      },
      "execution_count": 54,
      "outputs": [
        {
          "output_type": "stream",
          "name": "stdout",
          "text": [
            "tensor([[0., 0., 0.],\n",
            "        [0., 0., 0.],\n",
            "        [0., 0., 0.],\n",
            "        [0., 0., 0.],\n",
            "        [0., 0., 0.]])\n",
            "torch.float32\n"
          ]
        }
      ]
    },
    {
      "cell_type": "code",
      "source": [
        "matrix_int = torch.ones((5, 3), dtype=torch.int16)\n",
        "print(matrix_int)\n",
        "print(matrix_int.dtype)"
      ],
      "metadata": {
        "colab": {
          "base_uri": "https://localhost:8080/"
        },
        "id": "FklSl7fSnKKz",
        "outputId": "5dde64a3-efd6-4f0d-f0fe-be833beaa3f0"
      },
      "execution_count": 55,
      "outputs": [
        {
          "output_type": "stream",
          "name": "stdout",
          "text": [
            "tensor([[1, 1, 1],\n",
            "        [1, 1, 1],\n",
            "        [1, 1, 1],\n",
            "        [1, 1, 1],\n",
            "        [1, 1, 1]], dtype=torch.int16)\n",
            "torch.int16\n"
          ]
        }
      ]
    },
    {
      "cell_type": "code",
      "source": [
        "torch.manual_seed(2024)\n",
        "matrix_r1 = torch.rand(3, 3)\n",
        "print(print(f\"The seed 2024 \\n{matrix_r1}\"))\n",
        "\n",
        "#torch.manual_seed(2024)\n",
        "matrix_r2 = torch.rand(3, 3)\n",
        "print(f\"The different rand \\n{matrix_r2}\")\n",
        "\n",
        "torch.manual_seed(2024)\n",
        "matrix_r3 = torch.rand(3, 3)\n",
        "print(f\"The same as r1 \\n{matrix_r3}\")"
      ],
      "metadata": {
        "colab": {
          "base_uri": "https://localhost:8080/"
        },
        "id": "vSFiElg_nm6U",
        "outputId": "88937dd0-b05c-4331-9bf5-8bd792dab512"
      },
      "execution_count": 56,
      "outputs": [
        {
          "output_type": "stream",
          "name": "stdout",
          "text": [
            "The seed 2024 \n",
            "tensor([[0.5317, 0.8313, 0.9718],\n",
            "        [0.1193, 0.1669, 0.3495],\n",
            "        [0.2150, 0.6201, 0.4849]])\n",
            "None\n",
            "The different rand \n",
            "tensor([[0.7492, 0.1521, 0.5625],\n",
            "        [0.1735, 0.7046, 0.9265],\n",
            "        [0.4061, 0.3045, 0.9073]])\n",
            "The same as r1 \n",
            "tensor([[0.5317, 0.8313, 0.9718],\n",
            "        [0.1193, 0.1669, 0.3495],\n",
            "        [0.2150, 0.6201, 0.4849]])\n"
          ]
        }
      ]
    },
    {
      "cell_type": "code",
      "source": [
        "torch.cuda.is_available()"
      ],
      "metadata": {
        "id": "DfNjmhMKoH3s",
        "outputId": "df3f7999-e2df-4746-f968-f4d9953b44cd",
        "colab": {
          "base_uri": "https://localhost:8080/"
        }
      },
      "execution_count": 57,
      "outputs": [
        {
          "output_type": "execute_result",
          "data": {
            "text/plain": [
              "False"
            ]
          },
          "metadata": {},
          "execution_count": 57
        }
      ]
    },
    {
      "cell_type": "markdown",
      "source": [
        "这里开始——————————————————————"
      ],
      "metadata": {
        "id": "pw8JTVtPCOSC"
      }
    },
    {
      "cell_type": "code",
      "source": [
        "temp = torch.FloatTensor([23,24,24.5,26,27.2,23])\n",
        "temp.size()"
      ],
      "metadata": {
        "id": "2uzX2i0FCSBw",
        "outputId": "30375832-14eb-4042-f223-9a54d7e8f31e",
        "colab": {
          "base_uri": "https://localhost:8080/"
        }
      },
      "execution_count": 58,
      "outputs": [
        {
          "output_type": "execute_result",
          "data": {
            "text/plain": [
              "torch.Size([6])"
            ]
          },
          "metadata": {},
          "execution_count": 58
        }
      ]
    },
    {
      "cell_type": "code",
      "source": [
        "x = torch.rand(10)\n",
        "print(x)\n",
        "x.size()"
      ],
      "metadata": {
        "id": "utASKksSD-lf",
        "outputId": "3c56e3e4-b26b-4490-c8f0-515a7476ad0f",
        "colab": {
          "base_uri": "https://localhost:8080/"
        }
      },
      "execution_count": 59,
      "outputs": [
        {
          "output_type": "stream",
          "name": "stdout",
          "text": [
            "tensor([0.7492, 0.1521, 0.5625, 0.1735, 0.7046, 0.9265, 0.4061, 0.3045, 0.9073,\n",
            "        0.7637])\n"
          ]
        },
        {
          "output_type": "execute_result",
          "data": {
            "text/plain": [
              "torch.Size([10])"
            ]
          },
          "metadata": {},
          "execution_count": 59
        }
      ]
    },
    {
      "cell_type": "markdown",
      "source": [],
      "metadata": {
        "id": "JHKCM0wxE8fZ"
      }
    },
    {
      "cell_type": "code",
      "source": [
        "mnist_test = np.loadtxt(\"/content/sample_data/mnist_test.csv\", delimiter=\",\")\n",
        "print(mnist_test)\n",
        "mnist_tensor = torch.from_numpy(mnist_test)\n",
        "mnist_tensor.size()"
      ],
      "metadata": {
        "id": "UNLJqp-cEMRf",
        "outputId": "68e8a324-1d3e-44df-d0c1-fdf31f358783",
        "colab": {
          "base_uri": "https://localhost:8080/"
        }
      },
      "execution_count": 60,
      "outputs": [
        {
          "output_type": "stream",
          "name": "stdout",
          "text": [
            "[[7. 0. 0. ... 0. 0. 0.]\n",
            " [2. 0. 0. ... 0. 0. 0.]\n",
            " [1. 0. 0. ... 0. 0. 0.]\n",
            " ...\n",
            " [4. 0. 0. ... 0. 0. 0.]\n",
            " [5. 0. 0. ... 0. 0. 0.]\n",
            " [6. 0. 0. ... 0. 0. 0.]]\n"
          ]
        },
        {
          "output_type": "execute_result",
          "data": {
            "text/plain": [
              "torch.Size([10000, 785])"
            ]
          },
          "metadata": {},
          "execution_count": 60
        }
      ]
    },
    {
      "cell_type": "code",
      "source": [
        "n_input, n_hidden, n_output, batch_size = 10, 5, 1, 10\n"
      ],
      "metadata": {
        "id": "meWUWfW9EhQs"
      },
      "execution_count": 61,
      "outputs": []
    },
    {
      "cell_type": "code",
      "source": [
        "x = torch.randn(batch_size, n_input)\n",
        "y = torch.tensor([[1.0], [0.0], [0.0], [1.0], [1.0], [1.0], [0.0], [0.0], [1.0], [1.0]])\n",
        "print(x, y)"
      ],
      "metadata": {
        "id": "3C4J7mAIIBqH",
        "outputId": "9c857ad5-4a2a-4bf9-c23c-a4695751db5a",
        "colab": {
          "base_uri": "https://localhost:8080/"
        }
      },
      "execution_count": 62,
      "outputs": [
        {
          "output_type": "stream",
          "name": "stdout",
          "text": [
            "tensor([[ 4.1440e-01,  1.8567e+00,  1.9776e+00, -4.3216e-01,  1.3667e+00,\n",
            "          7.1308e-01, -3.8694e-01, -2.5348e-01, -1.3085e+00,  9.9618e-01],\n",
            "        [ 9.3908e-01,  1.4148e+00,  6.3434e-01, -7.7645e-02, -1.1175e+00,\n",
            "         -6.4811e-01,  4.9839e-02,  1.2883e+00, -6.4908e-01, -8.9694e-01],\n",
            "        [ 1.2634e+00,  3.0576e-02, -5.9316e-01, -5.1539e-01, -1.0767e+00,\n",
            "         -5.7563e-02, -5.9571e-02,  2.7639e-01, -2.4025e-01,  3.0839e-01],\n",
            "        [-9.2246e-01, -9.8095e-01,  3.5507e-01,  3.7296e-01, -1.3050e+00,\n",
            "         -7.9826e-01,  1.0442e+00,  1.1356e+00,  8.4423e-01,  1.4595e+00],\n",
            "        [-5.6558e-01,  6.9708e-01,  1.2581e-01, -4.3412e-02,  5.3658e-01,\n",
            "          2.4383e+00, -7.1003e-01,  5.4370e-01,  7.4853e-01,  6.1368e-01],\n",
            "        [-4.4186e-01,  9.8383e-02, -1.5196e-01, -1.8187e+00, -1.0217e+00,\n",
            "         -8.2268e-01,  1.5264e+00, -1.8643e-01,  9.1933e-01, -3.2484e-01],\n",
            "        [ 1.3998e+00, -5.2993e-01, -2.5606e-01,  1.1917e-01, -3.6943e-01,\n",
            "         -1.1544e+00,  1.1677e+00,  1.8842e-01,  1.3586e+00, -1.1322e+00],\n",
            "        [-6.2691e-01,  9.0098e-01,  1.6967e-01, -9.9449e-01,  1.1160e+00,\n",
            "          9.1712e-01,  1.7905e+00, -1.1247e-01,  4.8087e-01,  6.5093e-02],\n",
            "        [ 7.5286e-01,  6.8738e-01, -1.0833e+00, -8.2313e-01,  5.0101e-01,\n",
            "          5.4948e-01, -1.0379e-03, -2.5958e-02, -3.4162e-01,  1.0732e+00],\n",
            "        [ 1.3638e+00,  2.5566e-01, -9.2886e-01,  1.6562e+00, -4.5188e-01,\n",
            "         -4.5052e-01, -3.9274e-01,  1.6616e+00, -7.9531e-01, -8.7357e-01]]) tensor([[1.],\n",
            "        [0.],\n",
            "        [0.],\n",
            "        [1.],\n",
            "        [1.],\n",
            "        [1.],\n",
            "        [0.],\n",
            "        [0.],\n",
            "        [1.],\n",
            "        [1.]])\n"
          ]
        }
      ]
    },
    {
      "cell_type": "code",
      "source": [
        "# Create a Model\n",
        "model = nn.Sequential(nn.Linear(n_input, n_hidden),\n",
        "    nn.ReLU(),\n",
        "    nn.Linear(n_hidden, n_output),\n",
        "    nn.Sigmoid())\n"
      ],
      "metadata": {
        "id": "ki8pRcd0IogG"
      },
      "execution_count": 63,
      "outputs": []
    },
    {
      "cell_type": "code",
      "source": [
        "criterion = torch.nn.MSELoss()\n",
        "optimizer = torch.optim.SGD(model.parameters(), lr=0.1)"
      ],
      "metadata": {
        "id": "mlLKjpl2JMzI"
      },
      "execution_count": 66,
      "outputs": []
    },
    {
      "cell_type": "code",
      "source": [
        "for epoch in range(150):\n",
        "  y_pred = model(x)\n",
        "  loss = criterion(y_pred, y)\n",
        "  print(f\"eqoch: {epoch} loss: {loss.item()}\")\n",
        "  optimizer.zero_grad()\n",
        "  loss.backward()\n",
        "  optimizer.step()"
      ],
      "metadata": {
        "id": "30rIcGjdKF4p",
        "outputId": "ef250aad-5aca-4d85-99b6-8b166d45242c",
        "colab": {
          "base_uri": "https://localhost:8080/"
        }
      },
      "execution_count": 68,
      "outputs": [
        {
          "output_type": "stream",
          "name": "stdout",
          "text": [
            "eqoch: 0 loss: 0.18252480030059814\n",
            "eqoch: 1 loss: 0.18147012591362\n",
            "eqoch: 2 loss: 0.18042410910129547\n",
            "eqoch: 3 loss: 0.17936810851097107\n",
            "eqoch: 4 loss: 0.1783471554517746\n",
            "eqoch: 5 loss: 0.17726300656795502\n",
            "eqoch: 6 loss: 0.17624486982822418\n",
            "eqoch: 7 loss: 0.17516344785690308\n",
            "eqoch: 8 loss: 0.17415255308151245\n",
            "eqoch: 9 loss: 0.17308659851551056\n",
            "eqoch: 10 loss: 0.17207112908363342\n",
            "eqoch: 11 loss: 0.17099925875663757\n",
            "eqoch: 12 loss: 0.1699923574924469\n",
            "eqoch: 13 loss: 0.1688951551914215\n",
            "eqoch: 14 loss: 0.16790731251239777\n",
            "eqoch: 15 loss: 0.16682711243629456\n",
            "eqoch: 16 loss: 0.1658381223678589\n",
            "eqoch: 17 loss: 0.16476412117481232\n",
            "eqoch: 18 loss: 0.1637546718120575\n",
            "eqoch: 19 loss: 0.16269049048423767\n",
            "eqoch: 20 loss: 0.16169556975364685\n",
            "eqoch: 21 loss: 0.16066832840442657\n",
            "eqoch: 22 loss: 0.15978467464447021\n",
            "eqoch: 23 loss: 0.1588870882987976\n",
            "eqoch: 24 loss: 0.15800337493419647\n",
            "eqoch: 25 loss: 0.15709111094474792\n",
            "eqoch: 26 loss: 0.1561712920665741\n",
            "eqoch: 27 loss: 0.15537802875041962\n",
            "eqoch: 28 loss: 0.15438035130500793\n",
            "eqoch: 29 loss: 0.1535647064447403\n",
            "eqoch: 30 loss: 0.1527082622051239\n",
            "eqoch: 31 loss: 0.151792973279953\n",
            "eqoch: 32 loss: 0.15095727145671844\n",
            "eqoch: 33 loss: 0.15008333325386047\n",
            "eqoch: 34 loss: 0.14920614659786224\n",
            "eqoch: 35 loss: 0.1484348475933075\n",
            "eqoch: 36 loss: 0.14750581979751587\n",
            "eqoch: 37 loss: 0.14667506515979767\n",
            "eqoch: 38 loss: 0.14582058787345886\n",
            "eqoch: 39 loss: 0.1450261026620865\n",
            "eqoch: 40 loss: 0.14418812096118927\n",
            "eqoch: 41 loss: 0.1433645784854889\n",
            "eqoch: 42 loss: 0.14250366389751434\n",
            "eqoch: 43 loss: 0.14176848530769348\n",
            "eqoch: 44 loss: 0.1409057229757309\n",
            "eqoch: 45 loss: 0.14005927741527557\n",
            "eqoch: 46 loss: 0.1392824351787567\n",
            "eqoch: 47 loss: 0.13847193121910095\n",
            "eqoch: 48 loss: 0.13764099776744843\n",
            "eqoch: 49 loss: 0.13690802454948425\n",
            "eqoch: 50 loss: 0.13611067831516266\n",
            "eqoch: 51 loss: 0.13528352975845337\n",
            "eqoch: 52 loss: 0.13454274833202362\n",
            "eqoch: 53 loss: 0.13376782834529877\n",
            "eqoch: 54 loss: 0.13303691148757935\n",
            "eqoch: 55 loss: 0.13217249512672424\n",
            "eqoch: 56 loss: 0.13141487538814545\n",
            "eqoch: 57 loss: 0.13078832626342773\n",
            "eqoch: 58 loss: 0.12992146611213684\n",
            "eqoch: 59 loss: 0.12915721535682678\n",
            "eqoch: 60 loss: 0.12842252850532532\n",
            "eqoch: 61 loss: 0.1276966780424118\n",
            "eqoch: 62 loss: 0.12700410187244415\n",
            "eqoch: 63 loss: 0.12618272006511688\n",
            "eqoch: 64 loss: 0.12554898858070374\n",
            "eqoch: 65 loss: 0.12477824836969376\n",
            "eqoch: 66 loss: 0.12409169971942902\n",
            "eqoch: 67 loss: 0.12332980334758759\n",
            "eqoch: 68 loss: 0.12264546006917953\n",
            "eqoch: 69 loss: 0.12196103483438492\n",
            "eqoch: 70 loss: 0.12124542146921158\n",
            "eqoch: 71 loss: 0.12051822245121002\n",
            "eqoch: 72 loss: 0.119820736348629\n",
            "eqoch: 73 loss: 0.1191030740737915\n",
            "eqoch: 74 loss: 0.11846093833446503\n",
            "eqoch: 75 loss: 0.11777474731206894\n",
            "eqoch: 76 loss: 0.11707985401153564\n",
            "eqoch: 77 loss: 0.11640210449695587\n",
            "eqoch: 78 loss: 0.11572547256946564\n",
            "eqoch: 79 loss: 0.11511746793985367\n",
            "eqoch: 80 loss: 0.11445099115371704\n",
            "eqoch: 81 loss: 0.11375059187412262\n",
            "eqoch: 82 loss: 0.11308591067790985\n",
            "eqoch: 83 loss: 0.11243431270122528\n",
            "eqoch: 84 loss: 0.11178554594516754\n",
            "eqoch: 85 loss: 0.11119765043258667\n",
            "eqoch: 86 loss: 0.11049596965312958\n",
            "eqoch: 87 loss: 0.1098535805940628\n",
            "eqoch: 88 loss: 0.10924454033374786\n",
            "eqoch: 89 loss: 0.10856270790100098\n",
            "eqoch: 90 loss: 0.10796642303466797\n",
            "eqoch: 91 loss: 0.10737165063619614\n",
            "eqoch: 92 loss: 0.10680315643548965\n",
            "eqoch: 93 loss: 0.10610679537057877\n",
            "eqoch: 94 loss: 0.10549120604991913\n",
            "eqoch: 95 loss: 0.10486328601837158\n",
            "eqoch: 96 loss: 0.10425353050231934\n",
            "eqoch: 97 loss: 0.10364367067813873\n",
            "eqoch: 98 loss: 0.10311824083328247\n",
            "eqoch: 99 loss: 0.10250446945428848\n",
            "eqoch: 100 loss: 0.10190935432910919\n",
            "eqoch: 101 loss: 0.10131120681762695\n",
            "eqoch: 102 loss: 0.10070888698101044\n",
            "eqoch: 103 loss: 0.10012982040643692\n",
            "eqoch: 104 loss: 0.09952253103256226\n",
            "eqoch: 105 loss: 0.09896506369113922\n",
            "eqoch: 106 loss: 0.09841376543045044\n",
            "eqoch: 107 loss: 0.09781356900930405\n",
            "eqoch: 108 loss: 0.09730172157287598\n",
            "eqoch: 109 loss: 0.0966648980975151\n",
            "eqoch: 110 loss: 0.09611406922340393\n",
            "eqoch: 111 loss: 0.09555266797542572\n",
            "eqoch: 112 loss: 0.09503402560949326\n",
            "eqoch: 113 loss: 0.09443900734186172\n",
            "eqoch: 114 loss: 0.09393846243619919\n",
            "eqoch: 115 loss: 0.09340709447860718\n",
            "eqoch: 116 loss: 0.09282152354717255\n",
            "eqoch: 117 loss: 0.09231583029031754\n",
            "eqoch: 118 loss: 0.09176448732614517\n",
            "eqoch: 119 loss: 0.09135487675666809\n",
            "eqoch: 120 loss: 0.09085829555988312\n",
            "eqoch: 121 loss: 0.09049111604690552\n",
            "eqoch: 122 loss: 0.08996979892253876\n",
            "eqoch: 123 loss: 0.08960022777318954\n",
            "eqoch: 124 loss: 0.08911405503749847\n",
            "eqoch: 125 loss: 0.08876443654298782\n",
            "eqoch: 126 loss: 0.08834914118051529\n",
            "eqoch: 127 loss: 0.08790840953588486\n",
            "eqoch: 128 loss: 0.08751435577869415\n",
            "eqoch: 129 loss: 0.08709391951560974\n",
            "eqoch: 130 loss: 0.08670423179864883\n",
            "eqoch: 131 loss: 0.08628613501787186\n",
            "eqoch: 132 loss: 0.08592445403337479\n",
            "eqoch: 133 loss: 0.08550392091274261\n",
            "eqoch: 134 loss: 0.08515932410955429\n",
            "eqoch: 135 loss: 0.08472666889429092\n",
            "eqoch: 136 loss: 0.08444464951753616\n",
            "eqoch: 137 loss: 0.08402416110038757\n",
            "eqoch: 138 loss: 0.08372125774621964\n",
            "eqoch: 139 loss: 0.08340582251548767\n",
            "eqoch: 140 loss: 0.08297042548656464\n",
            "eqoch: 141 loss: 0.08270266652107239\n",
            "eqoch: 142 loss: 0.08229648321866989\n",
            "eqoch: 143 loss: 0.08200684189796448\n",
            "eqoch: 144 loss: 0.08166695386171341\n",
            "eqoch: 145 loss: 0.08129389584064484\n",
            "eqoch: 146 loss: 0.08101509511470795\n",
            "eqoch: 147 loss: 0.0806356891989708\n",
            "eqoch: 148 loss: 0.08040356636047363\n",
            "eqoch: 149 loss: 0.08005505055189133\n"
          ]
        }
      ]
    },
    {
      "cell_type": "markdown",
      "source": [],
      "metadata": {
        "id": "81Ea-bkMIbwH"
      }
    }
  ]
}