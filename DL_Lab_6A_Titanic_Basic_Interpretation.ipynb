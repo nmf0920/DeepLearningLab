{
  "cells": [
    {
      "cell_type": "markdown",
      "metadata": {
        "id": "view-in-github",
        "colab_type": "text"
      },
      "source": [
        "<a href=\"https://colab.research.google.com/github/nmf0920/Feiii_code/blob/main/DL_Lab_6A_Titanic_Basic_Interpretation.ipynb\" target=\"_parent\"><img src=\"https://colab.research.google.com/assets/colab-badge.svg\" alt=\"Open In Colab\"/></a>"
      ]
    },
    {
      "cell_type": "markdown",
      "metadata": {
        "id": "Eaw4eIQ171A8"
      },
      "source": [
        "# Getting started with Captum - Titanic Data Analysis"
      ]
    },
    {
      "cell_type": "markdown",
      "metadata": {
        "id": "T4G_bVoW71A-"
      },
      "source": [
        "In this notebook, we will demonstrate the basic features of the Captum interpretability library through an example model trained on the Titanic survival data.\n",
        "\n",
        "The Titanic survival data is a famous problem which is used to introduce people to the Kaggle machine learning competition framework:\n",
        "https://www.kaggle.com/competitions\n",
        "\n",
        "We will first train a deep neural network on the data using PyTorch and use Captum to understand which of the features were most important and how the network reached its prediction.\n",
        "  \n"
      ]
    },
    {
      "cell_type": "code",
      "execution_count": null,
      "metadata": {
        "id": "B1tEsjK271A_"
      },
      "outputs": [],
      "source": [
        "!pip3 install captum\n",
        "\n",
        "# Initial imports\n",
        "import numpy as np\n",
        "\n",
        "import torch\n",
        "\n",
        "from captum.attr import IntegratedGradients\n",
        "from captum.attr import LayerConductance\n",
        "from captum.attr import NeuronConductance\n",
        "\n",
        "import matplotlib\n",
        "import matplotlib.pyplot as plt\n",
        "%matplotlib inline\n",
        "\n",
        "from scipy import stats\n",
        "import pandas as pd"
      ]
    },
    {
      "cell_type": "markdown",
      "metadata": {
        "id": "OsO9bnVP71BA"
      },
      "source": [
        "We will begin by importing and cleaning the dataset. Download the dataset from https://biostat.app.vumc.org/wiki/pub/Main/DataSets/titanic3.csv and update the cell below with the path to the dataset csv."
      ]
    },
    {
      "cell_type": "code",
      "execution_count": null,
      "metadata": {
        "id": "mHOk3RCc71BC"
      },
      "outputs": [],
      "source": [
        "# Read dataset from csv file.\n",
        "titanic_data = pd.read_csv(\"https://biostat.app.vumc.org/wiki/pub/Main/DataSets/titanic3.csv\")"
      ]
    },
    {
      "cell_type": "markdown",
      "metadata": {
        "id": "dwBZ174C71BC"
      },
      "source": [
        "With the data loaded, we now preprocess the data by converting some categorical features such as gender, location of embarcation, and passenger class into one-hot encodings (separate feature columns for each class with 0 / 1). We also remove some features that are more difficult to analyze, such as name, and fill missing values in age and fare with the average values."
      ]
    },
    {
      "cell_type": "code",
      "execution_count": null,
      "metadata": {
        "id": "hSF2p3XH71BC"
      },
      "outputs": [],
      "source": [
        "titanic_data = pd.concat([titanic_data,\n",
        "                          pd.get_dummies(titanic_data['sex']),\n",
        "                          pd.get_dummies(titanic_data['embarked'],prefix=\"embark\"),\n",
        "                          pd.get_dummies(titanic_data['pclass'],prefix=\"class\")], axis=1)\n",
        "titanic_data[\"age\"] = titanic_data[\"age\"].fillna(titanic_data[\"age\"].mean())\n",
        "titanic_data[\"fare\"] = titanic_data[\"fare\"].fillna(titanic_data[\"fare\"].mean())\n",
        "titanic_data = titanic_data.drop(['name','ticket','cabin','boat','body','home.dest','sex','embarked','pclass'], axis=1)"
      ]
    },
    {
      "cell_type": "markdown",
      "metadata": {
        "id": "kj_2DlF871BD"
      },
      "source": [
        "After processing, the features we have are:\n",
        "\n",
        "* Age - Passenger Age\n",
        "* Sibsp - Number of Siblings / Spouses Aboard\n",
        "* Parch - Number of Parents / Children Aboard\n",
        "* Fare - Fare Amount Paid in British Pounds\n",
        "* Female - Binary variable indicating whether passenger is female\n",
        "* Male - Binary variable indicating whether passenger is male\n",
        "* EmbarkC - Binary variable indicating whether passenger embarked at Cherbourg\n",
        "* EmbarkQ - Binary variable indicating whether passenger embarked at Queenstown\n",
        "* EmbarkS - Binary variable indicating whether passenger embarked at Southampton\n",
        "* Class1 - Binary variable indicating whether passenger was in first class\n",
        "* Class2 - Binary variable indicating whether passenger was in second class\n",
        "* Class3 - Binary variable indicating whether passenger was in third class\n",
        "\n",
        "(Reference: http://campus.lakeforest.edu/frank/FILES/MLFfiles/Bio150/Titanic/TitanicMETA.pdf)"
      ]
    },
    {
      "cell_type": "markdown",
      "metadata": {
        "id": "9nPVRC2Z71BE"
      },
      "source": [
        "We now convert the data to numpy arrays and separate the training and test sets."
      ]
    },
    {
      "cell_type": "code",
      "execution_count": null,
      "metadata": {
        "id": "ITNprqwE71BE"
      },
      "outputs": [],
      "source": [
        "print()\n",
        "# Set random seed for reproducibility.\n",
        "np.random.seed(131254)\n",
        "\n",
        "# Convert features and labels to numpy arrays.\n",
        "labels = titanic_data[\"survived\"].to_numpy()\n",
        "titanic_data = titanic_data.drop(['survived'], axis=1)\n",
        "feature_names = list(titanic_data.columns)\n",
        "data = titanic_data.to_numpy()\n",
        "\n",
        "# Separate training and test sets using\n",
        "train_indices = np.random.choice(len(labels), int(0.7*len(labels)), replace=False)\n",
        "test_indices = list(set(range(len(labels))) - set(train_indices))\n",
        "train_features = data[train_indices]\n",
        "train_labels = labels[train_indices]\n",
        "test_features = data[test_indices]\n",
        "test_labels = labels[test_indices]"
      ]
    },
    {
      "cell_type": "markdown",
      "metadata": {
        "id": "5rp5ktV171BF"
      },
      "source": [
        "We are now ready to define the neural network architecture we will use for the task. We have defined a simple architecture using 2 hidden layers, the first with 12 hidden units and the second with 8 hidden units, each with Sigmoid non-linearity. The final layer performs a softmax operation and has 2 units, corresponding to the outputs of either survived (1) or not survived (0)."
      ]
    },
    {
      "cell_type": "code",
      "execution_count": null,
      "metadata": {
        "id": "4QKVgpkZ71BF"
      },
      "outputs": [],
      "source": [
        "import torch\n",
        "import torch.nn as nn\n",
        "torch.manual_seed(1)  # Set seed for reproducibility.\n",
        "class TitanicSimpleNNModel(nn.Module):\n",
        "    def __init__(self):\n",
        "        super().__init__()\n",
        "        self.linear1 = nn.Linear(12, 12)\n",
        "        self.sigmoid1 = nn.Sigmoid()\n",
        "        self.linear2 = nn.Linear(12, 8)\n",
        "        self.sigmoid2 = nn.Sigmoid()\n",
        "        self.linear3 = nn.Linear(8, 2)\n",
        "        self.softmax = nn.Softmax(dim=1)\n",
        "\n",
        "    def forward(self, x):\n",
        "        lin1_out = self.linear1(x)\n",
        "        sigmoid_out1 = self.sigmoid1(lin1_out)\n",
        "        sigmoid_out2 = self.sigmoid2(self.linear2(sigmoid_out1))\n",
        "        return self.softmax(self.linear3(sigmoid_out2))\n",
        "        # Note (K. Bryson) - this last layer should really not be using softmax\n",
        "        # since CrossEntropyLoss is being used below (which incorporates the soft max) !!!\n",
        "        # But we will go with this model for the sake of the tutorial description\n",
        "        # (since some results/conclusions change when this layer is taken out ...)\n"
      ]
    },
    {
      "cell_type": "markdown",
      "metadata": {
        "id": "MNitZPz171BG"
      },
      "source": [
        "We will train the model for 200 epochs. Note that there may be some variation in the results due to the stochastic nature of the training process but the results should \"roughly agree\"."
      ]
    },
    {
      "cell_type": "code",
      "execution_count": null,
      "metadata": {
        "id": "50ivt3Vf71BG"
      },
      "outputs": [],
      "source": [
        "net = TitanicSimpleNNModel()\n",
        "\n",
        "criterion = nn.CrossEntropyLoss()\n",
        "num_epochs = 200\n",
        "\n",
        "optimizer = torch.optim.Adam(net.parameters(), lr=0.1)\n",
        "input_tensor = torch.from_numpy(train_features).type(torch.FloatTensor)\n",
        "label_tensor = torch.from_numpy(train_labels)\n",
        "for epoch in range(num_epochs):\n",
        "    output = net(input_tensor)\n",
        "    loss = criterion(output, label_tensor)\n",
        "    optimizer.zero_grad()\n",
        "    loss.backward()\n",
        "    optimizer.step()\n",
        "    if epoch % 20 == 0:\n",
        "        print ('Epoch {}/{} => Loss: {:.2f}'.format(epoch+1, num_epochs, loss.item()))\n"
      ]
    },
    {
      "cell_type": "markdown",
      "metadata": {
        "id": "LjPIiav371BG"
      },
      "source": [
        "We can now evaluate the training and test accuracies of our model."
      ]
    },
    {
      "cell_type": "code",
      "execution_count": null,
      "metadata": {
        "id": "GyKyvDtu71BG"
      },
      "outputs": [],
      "source": [
        "out_probs = net(input_tensor).detach().numpy()\n",
        "out_classes = np.argmax(out_probs, axis=1)\n",
        "print(\"Train Accuracy:\", sum(out_classes == train_labels) / len(train_labels))"
      ]
    },
    {
      "cell_type": "code",
      "execution_count": null,
      "metadata": {
        "id": "7SPTOYLC71BH"
      },
      "outputs": [],
      "source": [
        "test_input_tensor = torch.from_numpy(test_features).type(torch.FloatTensor)\n",
        "out_probs = net(test_input_tensor).detach().numpy()\n",
        "out_classes = np.argmax(out_probs, axis=1)\n",
        "print(\"Test Accuracy:\", sum(out_classes == test_labels) / len(test_labels))"
      ]
    },
    {
      "cell_type": "markdown",
      "metadata": {
        "id": "n48fxAtk71BI"
      },
      "source": [
        "Beyond just considering the accuracy of the classifier, there are many important questions to understand how the model is working and it's decision, which is the purpose of Captum, to help make neural networks in PyTorch more interpretable."
      ]
    },
    {
      "cell_type": "markdown",
      "metadata": {
        "id": "7Eond_CV71BI"
      },
      "source": [
        "The first question we can ask is which of the features were actually important to the model to reach this decision? This is the first main component of Captum, the ability to obtain **Feature Attributions**. For this example, we will apply Integrated Gradients, which is one of the Feature Attribution methods included in Captum. More information regarding Integrated Gradients can be found in the original paper here: https://arxiv.org/pdf/1703.01365.pdf"
      ]
    },
    {
      "cell_type": "markdown",
      "metadata": {
        "id": "Pz0mwKqn71BI"
      },
      "source": [
        "To apply integrated gradients, we first create an IntegratedGradients object, providing the model object."
      ]
    },
    {
      "cell_type": "code",
      "execution_count": null,
      "metadata": {
        "id": "0T-mCMJW71BI"
      },
      "outputs": [],
      "source": [
        "ig = IntegratedGradients(net)"
      ]
    },
    {
      "cell_type": "markdown",
      "metadata": {
        "id": "j5cEWY3M71BI"
      },
      "source": [
        "To compute the integrated gradients, we use the attribute method of the IntegratedGradients object. The method takes tensor(s) of input examples (matching the forward function of the model), and returns the input attributions for the given examples. For a network with multiple outputs, a target index must also be provided, defining the index of the output for which gradients are computed. For this example, we provide target = 1, corresponding to survival.\n",
        "\n",
        "The input tensor provided should require grad, so we call requires\\_grad\\_ on the tensor. The attribute method also takes a baseline, which is the starting point from which gradients are integrated. The default value is just the 0 tensor, which is a reasonable baseline / default for this task.\n",
        "\n",
        "The returned values of the attribute method are the attributions, which match the size of the given inputs, and delta, which approximates the error between the approximated integral and true integral."
      ]
    },
    {
      "cell_type": "code",
      "execution_count": null,
      "metadata": {
        "id": "lIeuRNkM71BJ"
      },
      "outputs": [],
      "source": [
        "test_input_tensor.requires_grad_()\n",
        "attr, delta = ig.attribute(test_input_tensor,target=1, return_convergence_delta=True)\n",
        "attr = attr.detach().numpy()"
      ]
    },
    {
      "cell_type": "markdown",
      "metadata": {
        "id": "fG-A3HAc71BJ"
      },
      "source": [
        "To understand these attributions, we can first average them across all the inputs and print / visualize the average attribution for each feature."
      ]
    },
    {
      "cell_type": "code",
      "execution_count": null,
      "metadata": {
        "id": "BtoMNYpZ71BJ"
      },
      "outputs": [],
      "source": [
        "# Helper method to print importances and visualize distribution\n",
        "def visualize_importances(feature_names, importances, title=\"Average Feature Importances\", plot=True, axis_title=\"Features\"):\n",
        "    print(title)\n",
        "    for i in range(len(feature_names)):\n",
        "        print(feature_names[i], \": \", '%.3f'%(importances[i]))\n",
        "    x_pos = (np.arange(len(feature_names)))\n",
        "    if plot:\n",
        "        plt.figure(figsize=(12,6))\n",
        "        plt.bar(x_pos, importances, align='center')\n",
        "        plt.xticks(x_pos, feature_names, wrap=True)\n",
        "        plt.xlabel(axis_title)\n",
        "        plt.title(title)\n",
        "visualize_importances(feature_names, np.mean(attr, axis=0))"
      ]
    },
    {
      "cell_type": "markdown",
      "metadata": {
        "id": "vHu20mKN71BJ"
      },
      "source": [
        "From the feature attribution information, we obtain some interesting insights regarding the importance of various features. We see that the strongest features appear to be age and being male, which are negatively correlated with survival. Embarking at Queenstown and the number of parents / children appear to be less important features generally."
      ]
    },
    {
      "cell_type": "markdown",
      "metadata": {
        "id": "vUZy-CT471BK"
      },
      "source": [
        "An important thing to note is that the average attributions over the test set don't necessarily capture all the information regarding feature importances. We should also look at the distribution of attributions for each feature. It is possible that features have very different attributions for different examples in the dataset.\n",
        "\n",
        "For instance, we can visualize the distribution of attributions for sibsp, the number of siblings / spouses."
      ]
    },
    {
      "cell_type": "code",
      "execution_count": null,
      "metadata": {
        "id": "an_fXciY71BK"
      },
      "outputs": [],
      "source": [
        "plt.hist(attr[:,1], 100);\n",
        "plt.title(\"Distribution of Sibsp Attribution Values\");"
      ]
    },
    {
      "cell_type": "markdown",
      "metadata": {
        "id": "At87VhhK71BK"
      },
      "source": [
        "We note that a vast majority of the examples have an attribution value of 0 for sibsp, which likely corresponds to having a value of 0 for the feature (IntegratedGradients would provide an attribution of 0 when the feature value matches the baseline of 0). More significantly, we see that although the average seems smaller in magnitude in the plot above, there are a small number of examples with extremely negative attributions for this feature."
      ]
    },
    {
      "cell_type": "markdown",
      "metadata": {
        "id": "qCW9AwQn71BL"
      },
      "source": [
        "To better understand this, we can bucket the examples by the value of the sibsp feature and plot the average attribution for the feature. In the plot below, the size of the dot is proportional to the number of examples with that value."
      ]
    },
    {
      "cell_type": "code",
      "execution_count": null,
      "metadata": {
        "id": "8tgbxuD271BL"
      },
      "outputs": [],
      "source": [
        "bin_means, bin_edges, _ = stats.binned_statistic(test_features[:,1], attr[:,1], statistic='mean', bins=6)\n",
        "bin_count, _, _ = stats.binned_statistic(test_features[:,1], attr[:,1], statistic='count', bins=6)\n",
        "\n",
        "bin_width = (bin_edges[1] - bin_edges[0])\n",
        "bin_centers = bin_edges[1:] - bin_width/2\n",
        "plt.scatter(bin_centers, bin_means, s=bin_count)\n",
        "plt.xlabel(\"Average Sibsp Feature Value\");\n",
        "plt.ylabel(\"Average Attribution\");\n"
      ]
    },
    {
      "cell_type": "markdown",
      "metadata": {
        "id": "LZiPWB2g71BL"
      },
      "source": [
        "We see that the larger magnitude attributions correspond to the examples with larger Sibsp feature values, suggesting that the feature has a larger impact on prediction for these examples. Since there are substantially fewer of these examples (compared to those with a feature value of 0), the average attribution does not completely capture this effect."
      ]
    },
    {
      "cell_type": "markdown",
      "metadata": {
        "id": "47BtnjrT71BL"
      },
      "source": [
        "Now that we have a better understanding of the importance of different input features, the next question we can ask regarding the function of the neural network is how the different neurons in each layer work together to reach the prediction. For instance, in our first hidden layer output containing 12 units, are all the units used for prediction? Do some units learn features positively correlated with survival while others learn features negatively correlated with survival?"
      ]
    },
    {
      "cell_type": "markdown",
      "metadata": {
        "id": "gQ5twVaH71BL"
      },
      "source": [
        "This leads us to the second type of attributions available in Captum, **Layer Attributions**. Layer attributions allow us to understand the importance of all the neurons in the output of a particular layer. For this example, we will be using Layer Conductance, one of the Layer Attribution methods in Captum, which is an extension of Integrated Gradients applied to hidden neurons. More information regarding conductance can be found in the original paper here: https://arxiv.org/abs/1805.12233."
      ]
    },
    {
      "cell_type": "markdown",
      "metadata": {
        "id": "Mh_oqvf971BL"
      },
      "source": [
        "To use Layer Conductance, we create a LayerConductance object passing in the model as well as the module (layer) whose output we would like to understand. In this case, we choose net.sigmoid1, the output of the first hidden layer."
      ]
    },
    {
      "cell_type": "code",
      "execution_count": null,
      "metadata": {
        "id": "rDA69dom71BL"
      },
      "outputs": [],
      "source": [
        "cond = LayerConductance(net, net.sigmoid1)"
      ]
    },
    {
      "cell_type": "markdown",
      "metadata": {
        "id": "lBgjhdMU71BM"
      },
      "source": [
        "We can now obtain the conductance values for all the test examples by calling attribute on the LayerConductance object. LayerConductance also requires a target index for networks with mutliple outputs, defining the index of the output for which gradients are computed. Similar to feature attributions, we provide target = 1, corresponding to survival. LayerConductance also utilizes a baseline, but we simply use the default zero baseline as in integrated gradients."
      ]
    },
    {
      "cell_type": "code",
      "execution_count": null,
      "metadata": {
        "id": "JL5L17Tl71BM"
      },
      "outputs": [],
      "source": [
        "cond_vals = cond.attribute(test_input_tensor,target=1)\n",
        "cond_vals = cond_vals.detach().numpy()"
      ]
    },
    {
      "cell_type": "markdown",
      "metadata": {
        "id": "tqiTgoXQ71BM"
      },
      "source": [
        "We can begin by visualizing the average conductance for each neuron."
      ]
    },
    {
      "cell_type": "code",
      "execution_count": null,
      "metadata": {
        "id": "FlMbWbQp71BN"
      },
      "outputs": [],
      "source": [
        "visualize_importances(range(12),np.mean(cond_vals, axis=0),title=\"Average Neuron Importances\", axis_title=\"Neurons\")"
      ]
    },
    {
      "cell_type": "markdown",
      "metadata": {
        "id": "IJxHZ2Zh71BN"
      },
      "source": [
        "We can also look at the distribution of each neuron's attributions. Below we look at the distributions for neurons 7 and 9, and we can confirm that their attribution distributions are very close to 0, suggesting they are not learning substantial features.\n",
        "\n",
        "* Note - this is a good way of determining if you have too many hidden units in your network for the problem being asked.\n"
      ]
    },
    {
      "cell_type": "code",
      "execution_count": null,
      "metadata": {
        "id": "D98-mhLJ71BN"
      },
      "outputs": [],
      "source": [
        "plt.hist(cond_vals[:,9], 100);\n",
        "plt.title(\"Neuron 9 Distribution\")\n",
        "plt.figure()\n",
        "plt.hist(cond_vals[:,7], 100);\n",
        "plt.title(\"Neuron 7 Distribution\");\n"
      ]
    },
    {
      "cell_type": "markdown",
      "metadata": {
        "id": "UNZ_Ar5871BO"
      },
      "source": [
        "Now, we can look at the distributions of neurons 8 and 10, which appear to be learning strong features negatively correlated with survival."
      ]
    },
    {
      "cell_type": "code",
      "execution_count": null,
      "metadata": {
        "id": "Ug38LEcK71BP"
      },
      "outputs": [],
      "source": [
        "plt.hist(cond_vals[:,8], 100);\n",
        "plt.title(\"Neuron 8 Distribution\")\n",
        "plt.figure()\n",
        "plt.hist(cond_vals[:,10], 100);\n",
        "plt.title(\"Neuron 10 Distribution\");"
      ]
    },
    {
      "cell_type": "markdown",
      "metadata": {
        "id": "s0R7zAnx71BP"
      },
      "source": [
        "We have identified that some of the neurons are not learning important features, while others are. Can we now understand what each of these important neurons are looking at in the input? For instance, are they identifying different features in the input or similar ones?"
      ]
    },
    {
      "cell_type": "markdown",
      "metadata": {
        "id": "OilYMZ5H71BP"
      },
      "source": [
        "To answer these questions, we can apply the third type of attributions available in Captum, **Neuron Attributions**. This allows us to understand what parts of the input contribute to activating a particular input neuron. For this example, we will apply Neuron Conductance, which divides the neuron's total conductance value into the contribution from each individual input feature."
      ]
    },
    {
      "cell_type": "markdown",
      "metadata": {
        "id": "LU4Z-AHx71BP"
      },
      "source": [
        "To use Neuron Conductance, we create a NeuronConductance object, analogously to Conductance, passing in the model as well as the module (layer) whose output we would like to understand, in this case, net.sigmoid1, as before."
      ]
    },
    {
      "cell_type": "code",
      "execution_count": null,
      "metadata": {
        "id": "kd3X4WxZ71BP"
      },
      "outputs": [],
      "source": [
        "neuron_cond = NeuronConductance(net, net.sigmoid1)"
      ]
    },
    {
      "cell_type": "markdown",
      "metadata": {
        "id": "gH2KGfDX71BP"
      },
      "source": [
        "We can now obtain the neuron conductance values for all the test examples by calling attribute on the NeuronConductance object. Neuron Conductance requires the neuron index in the target layer for which attributions are requested as well as the target index for networks with multiple outputs, similar to layer conductance. As before, we provide target = 1, corresponding to survival, and compute neuron conductance for neurons 8 and 10, the significant neurons identified above. The neuron index can be provided either as a tuple or as just an integer if the layer output is 1-dimensional."
      ]
    },
    {
      "cell_type": "code",
      "execution_count": null,
      "metadata": {
        "id": "391Ah7lO71BP"
      },
      "outputs": [],
      "source": [
        "neuron_cond_vals_10 = neuron_cond.attribute(test_input_tensor, neuron_selector=10, target=1)"
      ]
    },
    {
      "cell_type": "code",
      "execution_count": null,
      "metadata": {
        "id": "c3XEdKBM71BQ"
      },
      "outputs": [],
      "source": [
        "neuron_cond_vals_8 = neuron_cond.attribute(test_input_tensor, neuron_selector=8, target=1)"
      ]
    },
    {
      "cell_type": "code",
      "execution_count": null,
      "metadata": {
        "id": "trW-a5cL71BQ"
      },
      "outputs": [],
      "source": [
        "visualize_importances(feature_names, neuron_cond_vals_8.mean(dim=0).detach().numpy(), title=\"Average Feature Importances for Neuron 8\")"
      ]
    },
    {
      "cell_type": "markdown",
      "metadata": {
        "id": "8Wq-qkXb71BQ"
      },
      "source": [
        "From the data above, it appears that the primary input feature used by neuron 8 is age, with limited importance for all other features."
      ]
    },
    {
      "cell_type": "code",
      "execution_count": null,
      "metadata": {
        "id": "Rv3weTrw71BR"
      },
      "outputs": [],
      "source": [
        "visualize_importances(feature_names, neuron_cond_vals_10.mean(dim=0).detach().numpy(), title=\"Average Feature Importances for Neuron 10\")"
      ]
    },
    {
      "cell_type": "markdown",
      "metadata": {
        "id": "z01NgsDT71BS"
      },
      "source": [
        "From the visualization above, it is evident that neuron 10 primarily relies on the gender and class features, substantially different from the focus of neuron 0."
      ]
    },
    {
      "cell_type": "markdown",
      "metadata": {
        "id": "lzOr2ypu71BS"
      },
      "source": [
        "## Summary"
      ]
    },
    {
      "cell_type": "markdown",
      "metadata": {
        "id": "YiQYkR9e71BS"
      },
      "source": [
        "In this demo, we have applied different attribution techniques in Captum including Integrated Gradients for feature attribution and Conductance for layer and neuron attribution in order to better understand the neural network predicting survival. Although larger networks are more difficult to analyze than this simple network, these basic building blocks for attribution can be utilized to improve model interpretability, breaking the traditional \"black-box\" characterization of neural networks and delving deeper into understanding how and why they make their decisions."
      ]
    },
    {
      "cell_type": "code",
      "source": [],
      "metadata": {
        "id": "_9iYHK3Xx4o9"
      },
      "execution_count": null,
      "outputs": []
    }
  ],
  "metadata": {
    "kernelspec": {
      "display_name": "Python 3",
      "language": "python",
      "name": "python3"
    },
    "language_info": {
      "codemirror_mode": {
        "name": "ipython",
        "version": 3
      },
      "file_extension": ".py",
      "mimetype": "text/x-python",
      "name": "python",
      "nbconvert_exporter": "python",
      "pygments_lexer": "ipython3",
      "version": "3.7.6"
    },
    "colab": {
      "provenance": [],
      "include_colab_link": true
    }
  },
  "nbformat": 4,
  "nbformat_minor": 0
}