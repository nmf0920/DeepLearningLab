{
  "nbformat": 4,
  "nbformat_minor": 0,
  "metadata": {
    "colab": {
      "provenance": [],
      "collapsed_sections": [
        "Bp_MPOndKhtI",
        "zOP6ju4SQe40",
        "0Uk5v2UUs1nt"
      ],
      "include_colab_link": true
    },
    "kernelspec": {
      "name": "python3",
      "display_name": "Python 3"
    }
  },
  "cells": [
    {
      "cell_type": "markdown",
      "metadata": {
        "id": "view-in-github",
        "colab_type": "text"
      },
      "source": [
        "<a href=\"https://colab.research.google.com/github/nmf0920/DeepLearningLab/blob/main/Lab2_Deep_Learning_MSc.ipynb\" target=\"_parent\"><img src=\"https://colab.research.google.com/assets/colab-badge.svg\" alt=\"Open In Colab\"/></a>"
      ]
    },
    {
      "cell_type": "markdown",
      "metadata": {
        "id": "1mFJAviOzTFy"
      },
      "source": [
        "# Lab 2: Experiments with basic MLP networks  and visualising the results\n",
        "\n",
        "# Lab 2: 基础多层感知器（MLP）网络的实验及结果可视化\n"
      ]
    },
    {
      "cell_type": "markdown",
      "source": [
        "## Read through all the cells that you are running to ensure you mostly understand what the code is doing ! 🙂\n",
        "## (Not just run cells without looking at them!)\n",
        "## (Modify things ... suggestions in the code ... look up documentation ... print out values ... to understand the code.)\n",
        "\n",
        "## （修改内容...在代码中提出建议...查阅文档...打印出值...以理解代码。）\n",
        "\n",
        "Run the following cell to:\n",
        "\n",
        "*   import relevant packages\n",
        "*   setup appropriate matplotlib defaults\n",
        "\n",
        "\n",
        "运行以下单元格以：\n",
        "*   导入相关包\n",
        "*   设置适当的matplotlib默认值\n",
        "\n",
        "Make sure you read through this and understand what this is doing.\n"
      ],
      "metadata": {
        "id": "YUUJQkC4ybuB"
      }
    },
    {
      "cell_type": "code",
      "metadata": {
        "id": "J_jTrbR2snhH"
      },
      "source": [
        "#@title\n",
        "from google.colab import files\n",
        "\n",
        "# Common imports\n",
        "import numpy as np\n",
        "import os\n",
        "import torch\n",
        "import torch.nn as nn #导入PyTorch的神经网络模块，提供了构建深度学习模型所需的层和函数。\n",
        "import torch.nn.functional as F\n",
        "import torch.optim as optim #导入PyTorch的优化模块，包含了多种优化算法，如SGD、Adam等。\n",
        "import seaborn as sns\n",
        "\n",
        "# To plot pretty figures\n",
        "%matplotlib inline\n",
        "import matplotlib\n",
        "import matplotlib.pyplot as plt\n",
        "#设置matplotlib图表的默认参数，如标签大小、刻度大小等，以确保图表具有更好的可读性。\n",
        "plt.rcParams['axes.labelsize']  = 14\n",
        "plt.rcParams['xtick.labelsize'] = 12\n",
        "plt.rcParams['ytick.labelsize'] = 12\n"
      ],
      "execution_count": 1,
      "outputs": []
    },
    {
      "cell_type": "markdown",
      "metadata": {
        "id": "Bp_MPOndKhtI"
      },
      "source": [
        "# Understanding simple networks\n",
        "\n",
        "# 理解简单的网络\n",
        "\n",
        "Let's try running some simple multi-layer perceptrons and see how they perform some basic regression and classification tasks. The goal here is to give you some insight into how a network represents the function or classifier, and what the impact of changing the parameters is.\n",
        "\n",
        "让我们尝试运行一些简单的多层感知器，看看它们如何执行一些基本的回归和分类任务。这里的目标是让你对网络如何表示函数或分类器，以及改变参数的影响有一些了解。\n",
        "\n",
        "Please do experiment with these models and try to work out how they work (a lot of it should look similar to what you did in the 60 minute PyTorch Blitz tutorial).\n",
        "\n",
        "请对这些模型进行实验，并尝试弄清楚它们是如何工作的（其中很多内容应该与你在60分钟的PyTorch Blitz教程中所做的相似）。"
      ]
    },
    {
      "cell_type": "markdown",
      "metadata": {
        "id": "PORXbgogLCu6"
      },
      "source": [
        "# Task 1 - Regression\n",
        "\n",
        "We can start with a one dimensional regression task. A target system is\n",
        "\n",
        "我们可以从一个一维回归任务开始。一个目标系统是\n",
        "$$ y = -\\sin(10\\pi (x+0.5)\\sin(x^3))+\\epsilon, $$where $\\epsilon \\sim \\cal{N}(\\mu, \\sigma)$, and $\\mu=0, \\sigma=0.1$.\n",
        "\n",
        "## Examine the following code.\n",
        "## 检查以下代码。\n",
        "\n",
        "Make sure you understand how this code is working (line by line).\n",
        "\n",
        "确保你理解这段代码是如何工作的（逐行）。\n",
        "\n",
        "What are `xgrid`, `ytrue` being used for in this code?\n",
        "\n",
        "在这段代码中，`xgrid`, `ytrue` 被用来做什么？\n",
        "\n",
        "What are `x`, `obserr` and `y` in the code?\n",
        "\n",
        "在代码中，`x`, `obserr` 和`y` 是什么？\n",
        "\n",
        "What might you expect `xtest` and `ytest` are used for?\n",
        "\n",
        "你认为 `xtest` 和 `ytest` 被用来做什么？"
      ]
    },
    {
      "cell_type": "code",
      "metadata": {
        "id": "DkiFzCRkNOiI",
        "colab": {
          "base_uri": "https://localhost:8080/",
          "height": 499
        },
        "outputId": "1433f8c8-0b01-4849-90cf-045b56c313a6"
      },
      "source": [
        "import math\n",
        "\n",
        "def testfunc(x):\n",
        "    # You might want to try this alternative function to experiment.\n",
        "    # 你可能想尝试这个备选函数进行实验。\n",
        "    #y = np.sin((4*math.pi*x**2))\n",
        "    y = -np.sin((10*math.pi*(x+0.5)*np.sin((x)**3)))#构造了一个复杂的非线性函数\n",
        "    return y\n",
        "\n",
        "#创建一个在-0.5到0.5之间均匀分布的100个点的网格，并调整形状以符合后续操作\n",
        "xgrid = torch.t(torch.linspace(-0.5,0.5,100)).unsqueeze(1)#生成一个线性间隔的 xgrid，用于画出未被噪声影响的真实函数。\n",
        "#首先生成一个一维张量，包含了从-0.5到0.5的100个等间隔的点\n",
        "#然后对其进行转置\n",
        "#随后利用.unsqueeze(1)操作增加一个维度，转换为而为张量，新加的维度位置为1（也就是第二个位置），相当于将100个点的一维数组转换为一个100x1的二维数组（行向量）\n",
        "\n",
        "# 使用定义好的函数生成这些点的真实值（干净的数据，用于可视化，但不用于学习）\n",
        "ytrue = testfunc(xgrid) # clean data from underlying function (not available for learning)\n",
        "#ytrue就是xgrid对应点上的函数值\n",
        "\n",
        "# now create some training data\n",
        "# 现在创建一些训练数据\n",
        "# N = 100         # number of noisy training observations made #噪声训练观察值的数量\n",
        "N=200\n",
        "noiseSigma = 0.1  # standard deviation of noise #噪声的标准差\n",
        "#noiseSigma = 0.01\n",
        "noiseMean = 0.0    # mean of noise #噪声的均值\n",
        "\n",
        "# 生成N个在-0.5到0.5之间均匀分布的随机样本点\n",
        "#创建1个与给定形状（Nx1）相同的新张量，其中每个元素都是[0,1)区间内的均匀分布中的数\n",
        "#然后从生成的随机数张量中对每个元素-0.5来将随机数转换到[-0.5,0.5)区间\n",
        "x = torch.rand_like(torch.ones(N,1))-0.5\n",
        "#生成N个高斯噪声样本（同样是一个Nx1的随机数张量，并对元素乘以标准差并加上均值\n",
        "obserr = torch.randn(N,1)*noiseSigma + noiseMean\n",
        "#生成带有噪声的训练数据点y值\n",
        "y = testfunc(x)+obserr\n",
        "\n",
        "#创建测试数据集，用于验证模型（基本相同的代码，只不过更换了随机生成的x值，作为测试样本\n",
        "#xtest,ytest与训练数据及类似，但用于模型验证而非训练\n",
        "xtest  = torch.rand_like(torch.ones(N,1))-0.5\n",
        "obserr = torch.randn(N,1)*noiseSigma + noiseMean\n",
        "ytest  = testfunc(xtest)+obserr\n",
        "\n",
        "#绘制真实函数和观测数据（绘制真实函数的图像和观测到的带噪声的数据点\n",
        "fig = plt.figure()\n",
        "plt.plot(xgrid, ytrue,'-k')#绘制真实函数的图像\n",
        "plt.plot(x,y,'o')#绘制观测到的数据点\n",
        "plt.title('True function and observed data')\n",
        "plt.xlabel('$x$')\n",
        "plt.ylabel('$y$')"
      ],
      "execution_count": 2,
      "outputs": [
        {
          "output_type": "execute_result",
          "data": {
            "text/plain": [
              "Text(0, 0.5, '$y$')"
            ]
          },
          "metadata": {},
          "execution_count": 2
        },
        {
          "output_type": "display_data",
          "data": {
            "text/plain": [
              "<Figure size 640x480 with 1 Axes>"
            ],
            "image/png": "[encoded data removed]"
          },
          "metadata": {}
        }
      ]
    },
    {
      "cell_type": "markdown",
      "source": [
        "# Train a simple \"fully connected\" multi-layer perceptron (MLP) network to model this data.\n",
        "\n",
        "# 训练一个简单的“全连接”多层感知器（MLP）网络来对这些数据进行建模。\n",
        "\n",
        "Make sure you understand how this code is working - ask questions !\n",
        "\n",
        "How many layers does this network have? How many neurons in the layers? Can you extend the number of layers? How many connections between the different layers? (See the output from the code ...)\n",
        "\n",
        "这个网络有多少层？每层有多少个神经元？你能增加层数吗？不同层之间有多少连接？（参见代码的输出...）\n",
        "\n",
        "Do you get an improvement of the loss over time? (Epochs of training)\n",
        "\n",
        "随着时间的推移（训练的轮次），损失有改善吗？"
      ],
      "metadata": {
        "id": "b1D1cIUm8HBC"
      }
    },
    {
      "cell_type": "code",
      "metadata": {
        "id": "EptbEK9YrNwo",
        "colab": {
          "base_uri": "https://localhost:8080/"
        },
        "outputId": "9ebec07f-1b0e-4c81-e965-27dc978397fa"
      },
      "source": [
        "import torch\n",
        "import torch.nn as nn\n",
        "import torch.nn.functional as F\n",
        "import torch.optim as optim\n",
        "\n",
        "#Nhidden = 10    # Try increasing the number of units # 尝试增加单元的数量\n",
        "Nhidden = 20\n",
        "lr = 0.01 #学习率\n",
        "epochs = 30000 #训练的轮次\n",
        "\n",
        "class Net(nn.Module):\n",
        "\n",
        "    def __init__(self):\n",
        "        super(Net, self).__init__()#可以调用Net类的父类nn.Module的构造函数，即可以使用nn.Module中定义的各种方法和属性\n",
        "\n",
        "        # An affine operation: y = Wx + b #一个仿射操作y=Wx+b\n",
        "        #对输入数据进行相应的线性变换\n",
        "        #第一个参数表示输入特征的数量，在此设定为1表示每个输入样本只有1个特征\n",
        "        #第二个参数Nhidden达标全脸阶层的输入特征的数量，即隐藏层中神经元的数量（这里设定为10）\n",
        "        #第一层是一个全脸阶层，从输入特征映射到隐藏层\n",
        "        self.fc1 = nn.Linear(1, Nhidden)  # See https://pytorch.org/docs/stable/nn.html#linear for documentation\n",
        "\n",
        "        # See later in the notebook why you might want to do this ! # 在笔记本后面你会了解为什么你可能想要这么做！\n",
        "        self.fc1a = nn.Linear(Nhidden, Nhidden)\n",
        "\n",
        "        # 你能找出权重是如何初始化的吗？\n",
        "        # 在源代码中，权重通过init.kaiming_uniform_(self.weight, a=math.sqrt(5))这条命令来初始化\n",
        "        #采用了Kaiming 均匀初始化方法，kaiming_uniform_ 是对权重进行初始化的函数，它根据权重矩阵的尺寸自动计算均匀分布的范围。\n",
        "        #参数 a 是Kaiming初始化中的负半区间的平方根，这里设定为sqrt(5)，可以与使用范围(-1/(sqrt(in_features)))到(1/(sqrt(in_features)))的均匀分布进行初始化的效果相同\n",
        "\n",
        "        #这是第二层，也是个全脸阶层，将隐藏层的输出映射到单个输出值\n",
        "        self.fc2 = nn.Linear(Nhidden, 1)  # Can you find out how the weights are initialised? Look in the PyTorch source code https://github.com/pytorch/pytorch/blob/master/torch/nn/modules/linear.py\n",
        "\n",
        "    #前馈传播函数\n",
        "    def forward(self, x):\n",
        "        # 尝试将这个改为 tanh() 或 sigmoid()\n",
        "        #这里使用了relu()做激活函数，还可以使用tanh()或者sigmoid()作为激活函数\n",
        "        #x = F.relu(self.fc1(x))  # try changing this to tanh() or sigmoid()\n",
        "        x = F.tanh(self.fc1(x))\n",
        "\n",
        "        # See later in the notebook why you might want to do this !\n",
        "        # 在笔记本后面你会了解为什么你可能想要这么做！\n",
        "        x = F.tanh(self.fc1a(x))\n",
        "        x = self.fc2(x)\n",
        "        #想要一个全面的输出，所以不再跟一个激活函数\n",
        "        return x\n",
        "\n",
        "net = Net()\n",
        "print(net)\n",
        "\n",
        "criterion = nn.MSELoss() #计算均方误差损失，均方误差作为损失函数\n",
        "optimizer = optim.SGD(net.parameters(), lr=lr, momentum=0.9)#利用SGD随机下降梯度作为优化器，通过调整学习率和动量来优化网络参数\n",
        "#扫描并调用了网络中的所有可训练的参数作为迭代器，将它们作为一个生成器返回\n",
        "\n",
        "\n",
        "\n",
        "for epoch in range(epochs):  # loop over the dataset multiple times #。对数据集进行多轮循环\n",
        "    running_loss = 0.0\n",
        "\n",
        "    # zero the parameter gradients\n",
        "    # 清零参数梯度\n",
        "    optimizer.zero_grad()\n",
        "\n",
        "    # forward + backward + optimize\n",
        "    # 向前传播+反向传播+优化\n",
        "    outputs = net(x)\n",
        "    loss = criterion(outputs, y)\n",
        "    loss.backward()\n",
        "    optimizer.step()\n",
        "\n",
        "    # print statistics # 打印统计信息\n",
        "    running_loss += loss.item() #将当前回合的损失值（一个单一的标量张量）转换为Python浮点数，并驾到running_loss上\n",
        "    if epoch % 2000 == 1999:    # print every 2000 mini-batches #  # 每2000次迭代打印一次\n",
        "        print('[%d, %5d] loss: %.3f' %\n",
        "              (epoch + 1, 0 + 1, running_loss))\n",
        "        running_loss = 0.0\n",
        "\n",
        "print('Finished Training')\n",
        "\n"
      ],
      "execution_count": 3,
      "outputs": [
        {
          "output_type": "stream",
          "name": "stdout",
          "text": [
            "Net(\n",
            "  (fc1): Linear(in_features=1, out_features=20, bias=True)\n",
            "  (fc1a): Linear(in_features=20, out_features=20, bias=True)\n",
            "  (fc2): Linear(in_features=20, out_features=1, bias=True)\n",
            ")\n",
            "[2000,     1] loss: 0.054\n",
            "[4000,     1] loss: 0.050\n",
            "[6000,     1] loss: 0.022\n",
            "[8000,     1] loss: 0.012\n",
            "[10000,     1] loss: 0.012\n",
            "[12000,     1] loss: 0.012\n",
            "[14000,     1] loss: 0.011\n",
            "[16000,     1] loss: 0.011\n",
            "[18000,     1] loss: 0.011\n",
            "[20000,     1] loss: 0.011\n",
            "[22000,     1] loss: 0.011\n",
            "[24000,     1] loss: 0.011\n",
            "[26000,     1] loss: 0.011\n",
            "[28000,     1] loss: 0.011\n",
            "[30000,     1] loss: 0.011\n",
            "Finished Training\n"
          ]
        }
      ]
    },
    {
      "cell_type": "markdown",
      "source": [
        "# Use the model to do predictions!\n",
        "\n",
        "# 使用模型来做预测\n",
        "\n",
        "Does it work as well as you would hope?\n",
        "\n",
        "它的工作效果如你所愿吗？\n",
        "\n",
        "How about if you add in the extra layer into the network? (Need to go back and update the model.) How has it changed the \"architecture\" of the network in terms of layers, number of neurons in those layers and number of connections between the layers? How has this changed the loss over epochs ? How has it changed the fit given below ?\n",
        "\n",
        "如果你在网络中增加额外的层会怎样？（需要返回去更新模型。）这如何改变网络的“架构”，包括层的数量、这些层中的神经元数量，以及层与层之间的连接数量？这如何改变了随着训练轮次变化的损失？这如何改变了下面给出的拟合效果？"
      ],
      "metadata": {
        "id": "jRumI9myDUFB"
      }
    },
    {
      "cell_type": "code",
      "metadata": {
        "id": "R90OoKbIrewK",
        "colab": {
          "base_uri": "https://localhost:8080/",
          "height": 499
        },
        "outputId": "175b961f-5be8-46dd-c93d-fe73fa37d5bd"
      },
      "source": [
        "pred_y = net(x) #通过神经网络net对训练数据x进行预测，得到预测值pred_y\n",
        "pred_ygrid = net(xgrid) #对前面的网格化输入数据进行预测，得到在网格点上的预测值pred_ygrid\n",
        "\n",
        "plt.figure()\n",
        "plt.plot(xgrid, ytrue,'k-') #将真实函数值绘制出来\n",
        "plt.plot(xgrid, pred_ygrid.detach().numpy(),'b-')\n",
        "#将网格上的预测值张量用.detach()方法穿进一个新张量，使新张量不会在梯度计算中，因为不打算对该数据进行反向传播\n",
        "#然后再将这个张量转换成Numpy数组，并绘制出来\n",
        "#因为预测得到的结果包含了自动提督计算的信息，所以必须要经过这一步的处理\n",
        "\n",
        "plt.xlabel('x')\n",
        "plt.ylabel('y')\n",
        "plt.ylim([-1, 1])\n",
        "plt.title('Regression comparison')"
      ],
      "execution_count": 4,
      "outputs": [
        {
          "output_type": "execute_result",
          "data": {
            "text/plain": [
              "Text(0.5, 1.0, 'Regression comparison')"
            ]
          },
          "metadata": {},
          "execution_count": 4
        },
        {
          "output_type": "display_data",
          "data": {
            "text/plain": [
              "<Figure size 640x480 with 1 Axes>"
            ],
            "image/png": "[encoded data removed]"
          },
          "metadata": {}
        }
      ]
    },
    {
      "cell_type": "markdown",
      "metadata": {
        "id": "BSFcECjUgqQ5"
      },
      "source": [
        "You can view the parameter values of the layers as a list of numpy arrays using the .weight command in pyTorch. Each layer can be accessed independently.\n",
        "\n",
        "你可以使用 PyTorch 中的 .weight 命令将层的参数值作为 NumPy 数组的列表查看。每个层都可以独立访问。\n",
        "\n",
        "Do the number of weights and bias terms printed make sense here given the structure of this network ?\n",
        "\n",
        "在这个网络的结构中，打印出的权重和偏置项的数量合理吗？\n",
        "\n"
      ]
    },
    {
      "cell_type": "code",
      "metadata": {
        "id": "JBmlCO_uuda5",
        "colab": {
          "base_uri": "https://localhost:8080/"
        },
        "outputId": "137bda22-0ee5-493b-9a31-9b5af96228ea"
      },
      "source": [
        "# 第一个隐藏层的权重（为了便于检查而转置）\n",
        "print('First hidden layer weights', torch.t(net.fc1.weight)) # first hidden layer weights (transposed for ease of inspection)\n",
        "# 第一个隐藏层的偏置\n",
        "print('First hidden layer biases', net.fc1.bias) # first hidden layer biases\n",
        "\n",
        "# 第二层的权重\n",
        "print('Second layer weights',net.fc2.weight) # second layer\n",
        "# 第二层的偏置\n",
        "print('Second layer bias', net.fc2.bias) # second layer\n",
        "\n",
        "print(torch.t(net.fc1.weight).shape)\n",
        "print(net.fc2.weight.shape)"
      ],
      "execution_count": 5,
      "outputs": [
        {
          "output_type": "stream",
          "name": "stdout",
          "text": [
            "First hidden layer weights tensor([[ 0.2647,  0.1961, -1.2274,  0.9846,  0.7268, -0.8416,  0.3736, -0.0287,\n",
            "          1.1849, -0.5801,  0.1829, -1.7834,  2.0305,  1.0580, -1.1372,  0.5938,\n",
            "         -0.5646, -1.6289,  1.2324,  0.7325]], grad_fn=<TBackward0>)\n",
            "First hidden layer biases Parameter containing:\n",
            "tensor([ 0.4973,  0.9550,  0.4292, -0.2536, -0.4950,  0.5680, -0.9234,  0.4115,\n",
            "        -0.1816, -0.2019,  0.9123,  0.8746, -0.8867,  0.0771,  0.6398, -0.7400,\n",
            "        -0.1202,  0.7202, -0.0814, -0.8098], requires_grad=True)\n",
            "Second layer weights Parameter containing:\n",
            "tensor([[ 0.0086,  0.1370,  0.2273,  0.1281, -2.2329, -0.2177,  0.8287, -0.2813,\n",
            "          0.0594,  0.1722, -0.1333, -0.2199, -0.0092, -0.0990,  0.8109, -0.5864,\n",
            "         -0.1005, -0.3452,  0.2488, -0.0540]], requires_grad=True)\n",
            "Second layer bias Parameter containing:\n",
            "tensor([0.4983], requires_grad=True)\n",
            "torch.Size([1, 20])\n",
            "torch.Size([1, 20])\n"
          ]
        }
      ]
    },
    {
      "cell_type": "markdown",
      "source": [
        "以上得出的结果中，权重和偏置的数量是合理的，第一个隐藏中的权重应该是一个形状为Nhidden(10)x1的2维张量，而偏置使有10个元素组成的向量，而第二层中的权重的形状应该是一个1xNhidden(10)的2维张量，因为第一层的权重结果进行了转置，所以输出的形状才是(1,10)"
      ],
      "metadata": {
        "id": "f7n7B0vQhWtw"
      }
    },
    {
      "cell_type": "markdown",
      "metadata": {
        "id": "zOP6ju4SQe40"
      },
      "source": [
        "# Do further experimentation on this regression problem to improve it ...\n",
        "\n",
        "# 在这个回归问题上做进一步的实验以改进它...\n",
        "\n",
        "Experiment (possibly changing one thing at a time for comparison) with:\n",
        "\n",
        "1. The amount of training data (try 100, 200, 1000 points), and noise levels on the data (try 0.01 and 0.1 for noiseSigma).\n",
        "2. The number of units (neurons) in the model (essentially the \"width\" of the network).\n",
        "3. The choice of activation function.\n",
        "4. Add an extra layer of hidden units to the network and compare performance between two layers of N units and one layer of 2N units (essentially the \"depth\" of the network).\n",
        "\n",
        "实验（可能一次改变一个因素以便比较）以下内容：\n",
        "\n",
        "1.训练数据的数量（尝试100，200，1000个点），以及数据的噪声水平（尝试0.01和0.1的noiseSigma）。\n",
        "\n",
        "2.模型中的单元（神经元）数量（本质上是网络的“宽度”）。\n",
        "\n",
        "3.激活函数的选择。\n",
        "\n",
        "4.向网络中添加一个额外的隐藏单元层，并比较两层N个单元和一层2N个单元的性能（本质上是网络的“深度”）。\n",
        "\n",
        "Compare these by plotting a visualisation of the network output at `xgrid` inputs, and compare it with the `ytrue` results.\n",
        "\n",
        "通过在 `xgrid` 输入处绘制网络输出的可视化图，并将其与 `ytrue` 结果进行比较来对这些进行对比。\n"
      ]
    },
    {
      "cell_type": "markdown",
      "source": [
        "1.   训练数据的数量过多以及数据的噪声水平太小容易过拟合\n",
        "2.   神经元数量增多容易过拟合，并且会导致训练时间变长，过于复杂的模型很难找到全局最优解，容易陷入局部最优解的陷阱\n",
        "3.   不同激活函数对神经网络模型的性能影响很大，不同的激活函数有不同的特性，替换tanh()函数后展现的效果好像更好(?)\n",
        "4.   增加额外的隐藏层，容易导致梯度消失或者梯度爆炸的问题，还增加了过拟合的风险，尤其是数据量较小的情况下，同时收敛速度会降低，需要更长的时间。\n",
        "\n",
        "\n"
      ],
      "metadata": {
        "id": "iIKot2BUO3g_"
      }
    },
    {
      "cell_type": "markdown",
      "metadata": {
        "id": "2MmfdNtxRQv0"
      },
      "source": [
        "\n",
        "\n",
        "---\n",
        "\n",
        "\n",
        "\n",
        "# Task 2 - Classification\n",
        "\n",
        "Now we will try out some experiments with simple two-dimensional classification tasks. Again read through the code to make sure you feel you understand how it is working. For instance, how does meshgrid() work? Look it up in the PyTorch documentation if you are not sure what it is doing. See if you can work out the shape (or size) of the tensors involved (can always print out value.shape to checkthis !) For instance, what shape does `x` have in this code ?\n",
        "\n",
        "\n",
        "**Dataset 1**\n"
      ]
    },
    {
      "cell_type": "code",
      "metadata": {
        "id": "C-AApql6Rc7T"
      },
      "source": [
        "N = 200\n",
        "\n",
        "xgrid = torch.arange(0,1.0,0.01)\n",
        "\n",
        "X,Y = torch.meshgrid(xgrid, xgrid)\n",
        "testgrid = torch.zeros((np.shape(xgrid)[0]**2,2))\n",
        "testgrid[:,0] = X.flatten()\n",
        "testgrid[:,1] = Y.flatten()\n",
        "\n",
        "\n",
        "# What distribution is produced by torch.randn ?\n",
        "# Try experimenting with different types of input distribution\n",
        "# x = np.random.uniform(low = 0.0, high = 1.0, size= (N,2))\n",
        "\n",
        "x = 0.2*torch.randn(N,2)+torch.tensor([0.5, 0.5])\n",
        "\n",
        "y = ((torch.linalg.vector_norm(x-0.5, dim=1) < 0.2)*1.0).type(torch.float)  # make the class be a circle in the centre of the scene.\n",
        "\n",
        "# cut out a border around the classes to make the task a bit more realistic\n",
        "ind_incl = (torch.linalg.vector_norm(x-0.5, dim=1) > 0.25) | (torch.linalg.vector_norm(x-0.5, dim=1) < 0.20)\n",
        "x = x[ind_incl,:]\n",
        "y = y[ind_incl]\n",
        "N = y.shape[0]\n",
        "y = y.reshape(N,1)\n",
        "print(N)\n",
        "\n",
        "Ntest = 1000\n",
        "xtest = 0.2*torch.randn(Ntest,2)+torch.tensor([0.5, 0.5])\n",
        "ytest = ((torch.linalg.vector_norm(xtest-0.5, dim=1) < 0.2)*1.0).type(torch.float)\n",
        "\n",
        "# cut out a border around the classes to make the task a bit more realistic\n",
        "ind_incl = (torch.norm(xtest-0.5, dim=1) > 0.25) | (torch.norm(xtest-0.5, dim=1) < 0.20)\n",
        "xtest = xtest[ind_incl,:]\n",
        "ytest = ytest[ind_incl]\n",
        "\n",
        "Ntest = ytest.shape[0]\n",
        "ytest = ytest.reshape(Ntest,1)\n",
        "\n",
        "plt.figure()\n",
        "plt.scatter(x[:,0].numpy(),x[:,1].numpy(), alpha=0.2, s=90, cmap='viridis', c=y.view(-1))\n",
        "plt.title('Dataset 1')\n",
        "plt.xlabel('$x_1$')\n",
        "plt.ylabel('$x_2$')"
      ],
      "execution_count": null,
      "outputs": []
    },
    {
      "cell_type": "markdown",
      "source": [
        "---\n",
        "\n",
        "# Define a suitable MLP or \"fully-connected\" model\n",
        "\n",
        "This type of simple network can alternatively be created using the nn.Sequential container. See this [Sequential](https://pytorch.org/docs/stable/generated/torch.nn.Sequential.html) class page in the PyTorch documentation for an example of this.\n",
        "\n",
        "\n",
        "What is the size of the input to this model? What is the size of output? Why do we have a sigmoid activation function on the output? (See the printed output.)\n",
        "\n"
      ],
      "metadata": {
        "id": "9ETIjfiJX08h"
      }
    },
    {
      "cell_type": "code",
      "metadata": {
        "id": "hNXcVNuBeSr-"
      },
      "source": [
        "Nhidden = 10\n",
        "lamb=0.0000    # L2 weight decay term\n",
        "lr = 0.01\n",
        "epochs = 20000\n",
        "\n",
        "\n",
        "class Net2d(nn.Module):\n",
        "    def __init__(self):\n",
        "        super(Net2d, self).__init__()\n",
        "        # an affine operation: y = Wx + b\n",
        "        self.fc1 = nn.Linear(2, Nhidden)\n",
        "        self.fc2 = nn.Linear(Nhidden, Nhidden)\n",
        "        self.fc3 = nn.Linear(Nhidden, 1)\n",
        "\n",
        "    def forward(self, x):\n",
        "        x = F.relu(self.fc1(x))\n",
        "        x = F.relu(self.fc2(x))\n",
        "        x = torch.sigmoid(self.fc3(x))\n",
        "        return x\n",
        "\n",
        "net2d = Net2d()\n",
        "print(net2d)\n",
        "\n"
      ],
      "execution_count": null,
      "outputs": []
    },
    {
      "cell_type": "markdown",
      "source": [
        "# Training the network\n",
        "\n",
        "What type of loss are we using here? Why are we not using MSELoss ?"
      ],
      "metadata": {
        "id": "Ua3dqui3YXTq"
      }
    },
    {
      "cell_type": "code",
      "metadata": {
        "id": "MYn_LCd8-Q9n"
      },
      "source": [
        "criterion = nn.BCELoss()\n",
        "optimizer = optim.SGD(net2d.parameters(), lr=lr, momentum=0.9, weight_decay=lamb) # Note that this is adding L2 regularisation with factor lamb to every parameter\n",
        "\n",
        "for epoch in range(epochs):  # loop over the dataset multiple times\n",
        "    running_loss = 0.0\n",
        "\n",
        "    # zero the parameter gradients\n",
        "    optimizer.zero_grad()\n",
        "\n",
        "    # forward + backward + optimize\n",
        "    outputs = net2d(x)\n",
        "    loss = criterion(outputs, y)\n",
        "    loss.backward()\n",
        "    optimizer.step()\n",
        "\n",
        "    # print statistics\n",
        "    running_loss += loss.item()\n",
        "    if epoch % 2000 == 1999:    # print every 2000 mini-batches\n",
        "        print('[%d, %5d] loss: %.3f' %\n",
        "              (epoch + 1, 0 + 1, running_loss))\n",
        "        running_loss = 0.0\n"
      ],
      "execution_count": null,
      "outputs": []
    },
    {
      "cell_type": "markdown",
      "metadata": {
        "id": "2X8lLWswJeA4"
      },
      "source": [
        "# Using the network to do prediction"
      ]
    },
    {
      "cell_type": "code",
      "metadata": {
        "id": "G72CA3VOg33R"
      },
      "source": [
        "pred_test = net2d(xtest)\n",
        "plt.figure()\n",
        "plt.scatter(xtest[:,0],xtest[:,1], alpha=0.2, s=90, cmap='viridis', c=pred_test[:,0].detach().numpy())\n",
        "plt.title('Dataset 1')\n",
        "plt.xlabel('$x_1$')\n",
        "plt.ylabel('$x_2$')\n",
        "\n",
        "pred_testgrid = net2d(testgrid)\n",
        "plt.figure()\n",
        "plt.scatter(testgrid[:,0],testgrid[:,1], alpha=0.2, s=90, cmap='viridis', c=pred_testgrid[:,0].detach().numpy())\n",
        "plt.title('Dataset 1 fine response')\n",
        "plt.xlabel('$x_1$')\n",
        "plt.ylabel('$x_2$')\n",
        "\n",
        "print('Final training set loss ', criterion(outputs, y).item())\n",
        "test_loss = criterion(pred_test, ytest)\n",
        "print('Test loss ', test_loss.item())\n",
        "classification = torch.round(pred_test)\n",
        "percentage = 100*sum(ytest.type(torch.int) == classification.type(torch.int))/Ntest\n",
        "print('Percentage correct ', percentage.item())"
      ],
      "execution_count": null,
      "outputs": []
    },
    {
      "cell_type": "markdown",
      "metadata": {
        "id": "9xN5VjtY_fFZ"
      },
      "source": [
        "# Experiment with the following ...\n",
        "\n",
        "Try repeating these experiments with the following variations:\n",
        "- Try with 200, 500, 2000 training points. How does that change the response of the function?\n",
        "- Try changing the number of hidden units. What changes?\n",
        "    - Do you see as many 'edges' on the decision boundary when using ReLUs as units? Why do you think this is?\n",
        "    - Try with 1,2,3 hidden layers.\n",
        "- Try with Sigmoids in the hidden layer rather than ReLUs.\n",
        "    - How does that change the shape of the decision boundary? Why do you think this is?\n",
        "    - How does it change the speed of error reduction?\n",
        "\n",
        "- Try changing the loss function from Binary Cross-Entropy (`BCEloss`) to `MSEloss`. How does that affect performance? How does it affect perfomance in `mse`?\n",
        "- During the above you may find that some configurations take a lot longer to reduce the error than others.\n"
      ]
    },
    {
      "cell_type": "markdown",
      "metadata": {
        "id": "B97AY1r5lv-E"
      },
      "source": [
        "The correct choice of loss function is linked to the output type, as shown in the table below:\n",
        "\n",
        "![output/cost function table](https://docs.google.com/uc?export=download&id=1Z2C-NJh35shzvtMlvEtDpyQgGM10bvew)\n",
        "\n",
        "\n",
        "\n"
      ]
    },
    {
      "cell_type": "markdown",
      "source": [
        "\n",
        "\n",
        "---\n",
        "\n",
        "\n",
        "\n",
        "# Task 3 - Classification\n",
        "\n",
        "\n",
        "Let's do a classification based on the boundary that we used for regression !\n",
        "\n",
        "---\n",
        "\n",
        "**Dataset 2**"
      ],
      "metadata": {
        "id": "XwD3xDdOc_kB"
      }
    },
    {
      "cell_type": "code",
      "metadata": {
        "id": "FcCBKVNRU-k7"
      },
      "source": [
        "N = 100   # Try 100, 500, 1000\n",
        "\n",
        "xgrid1 = torch.arange(0,1.0,0.01)\n",
        "\n",
        "#try experimenting with different types of input distribution\n",
        "data_dist = 1 # 1 - uniform 0.5-0.5, 2 - normally distributed\n",
        "\n",
        "if data_dist == 1:\n",
        "   x = torch.rand(N,2)\n",
        "else:\n",
        "   x = 0.15*torch.randn(N,2)+torch.tensor([0.5, 0.5])\n",
        "ind_pos = (0.5+0.4*testfunc(x[:,0]-0.5)<x[:,1])\n",
        "y = (ind_pos*1.0).type(torch.float)  # lets create a classification line based on old regression function\n",
        "N = y.shape[0]\n",
        "y = y.reshape(N,1)\n",
        "x[ind_pos,1] = x[ind_pos,1]+0.05 # create a gap between classes.\n",
        "\n",
        "\n",
        "if data_dist == 1:\n",
        "  xtest = torch.rand(N,2)\n",
        "else:\n",
        "  xtest = 0.15*torch.randn(N,2)+torch.tensor([0.5, 0.5])\n",
        "ind_post = (0.5+0.4*testfunc(xtest[:,0]-0.5)<xtest[:,1])\n",
        "ytest = (ind_post*1.0).type(torch.float)  # let's create a classification line based on old regression function\n",
        "Ntest = ytest.shape[0]\n",
        "ytest = ytest.reshape(Ntest,1)\n",
        "xtest[ind_post,1] = xtest[ind_post,1]+0.05 # create a gap between classes.\n",
        "\n",
        "\n",
        "plt.figure()\n",
        "plt.scatter(x[:,0],x[:,1], alpha=0.2, s=90, cmap='viridis', c=y.view(-1))\n",
        "plt.plot(xgrid1, 0.5+0.4*ytrue,'--k')  # show the 'true' classification line for this problem\n",
        "plt.title('Dataset 2')\n",
        "plt.xlabel('$x_1$')\n",
        "plt.ylabel('$x_2$')\n",
        "\n"
      ],
      "execution_count": null,
      "outputs": []
    },
    {
      "cell_type": "markdown",
      "source": [
        "# Define the model\n",
        "\n",
        "This time we will use the Sequential container that was mentioned above to define this model."
      ],
      "metadata": {
        "id": "4fg18tmJdbxh"
      }
    },
    {
      "cell_type": "code",
      "metadata": {
        "id": "ooUmecIbhSv_"
      },
      "source": [
        "Nhidden = 10 # experiment with this\n",
        "lamb=0.00\n",
        "lr = 0.01\n",
        "epochs = 50000\n",
        "\n",
        "\n",
        "net2d = nn.Sequential(nn.Linear(2,Nhidden),\n",
        "                      nn.ReLU(),\n",
        "                      nn.Linear(Nhidden, Nhidden),\n",
        "                      nn.ReLU(),\n",
        "                      nn.Linear(Nhidden, 1),\n",
        "                      nn.Sigmoid())\n",
        "# reuse net2d variable.\n"
      ],
      "execution_count": null,
      "outputs": []
    },
    {
      "cell_type": "markdown",
      "source": [
        "# Train the model\n",
        "\n",
        "Does the loss change during training? What is this telling you?"
      ],
      "metadata": {
        "id": "XOO9tm4WdqdI"
      }
    },
    {
      "cell_type": "code",
      "metadata": {
        "id": "r_L2dd6Grpyb"
      },
      "source": [
        "criterion = nn.BCELoss()\n",
        "optimizer = optim.SGD(net2d.parameters(), lr=lr, momentum=0.9, weight_decay=lamb) # Note that this is adding L2 regularisation with factor lamb to every parameter\n",
        "\n",
        "for epoch in range(epochs):  # loop over the dataset multiple times\n",
        "    running_loss = 0.0\n",
        "\n",
        "    # zero the parameter gradients\n",
        "    optimizer.zero_grad()\n",
        "\n",
        "    # forward + backward + optimize\n",
        "    outputs = net2d(x)\n",
        "    loss = criterion(outputs, y)\n",
        "    loss.backward()\n",
        "    optimizer.step()\n",
        "\n",
        "    # print statistics\n",
        "    running_loss += loss.item()\n",
        "    if epoch % 2000 == 1999:    # print every 2000 mini-batches\n",
        "        print('[%d, %5d] loss: %.3f' %\n",
        "              (epoch + 1, 0 + 1, running_loss))\n",
        "        running_loss = 0.0"
      ],
      "execution_count": null,
      "outputs": []
    },
    {
      "cell_type": "markdown",
      "source": [
        "# Do prediction on the test set using the model"
      ],
      "metadata": {
        "id": "oX3py9mNd7-B"
      }
    },
    {
      "cell_type": "code",
      "metadata": {
        "id": "TyR92Ho8pTyt"
      },
      "source": [
        "pred_test = net2d(xtest)\n",
        "plt.figure()\n",
        "plt.scatter(xtest[:,0],xtest[:,1], alpha=0.2, s=90, cmap='viridis', c=pred_test[:,0].detach().numpy())\n",
        "plt.plot(xgrid1, 0.5+0.4*ytrue,'--k')  # show the 'true' classification line for dataset2 problem\n",
        "plt.title('Dataset 2')\n",
        "plt.xlabel('$x_1$')\n",
        "plt.ylabel('$x_2$')\n",
        "\n",
        "pred_testgrid = net2d(testgrid)\n",
        "plt.figure()\n",
        "plt.scatter(testgrid[:,0],testgrid[:,1], alpha=0.2, s=90, cmap='viridis', c=pred_testgrid[:,0].detach().numpy())\n",
        "plt.plot(xgrid1, 0.5+0.4*ytrue,'--k')  # show the 'true' classification line for this problem\n",
        "plt.title('Dataset 2 fine response')\n",
        "plt.xlabel('$x_1$')\n",
        "plt.ylabel('$x_2$')\n",
        "\n",
        "print('Final training set loss ', criterion(outputs, y).item())\n",
        "test_loss = criterion(pred_test, ytest)\n",
        "print('Test loss ', test_loss.item())\n",
        "classification = torch.round(pred_test)\n",
        "percentage = 100.0*torch.sum(ytest.type(torch.int) == classification.type(torch.int))/Ntest\n",
        "print('Percentage correct ', percentage.item())"
      ],
      "execution_count": null,
      "outputs": []
    },
    {
      "cell_type": "markdown",
      "metadata": {
        "id": "0Uk5v2UUs1nt"
      },
      "source": [
        "# Try experimenting with the following aspects of this network:\n",
        "\n",
        "Try changing the distribution of the training data (e.g. make it normally distributed) but keeping the same classification boundary. How does that change the resulting classification boundary?\n",
        "\n",
        "Try with N= 100, 500, 1000 training examples with linearly distribute and normally distributed data. What is this telling you?\n",
        "\n",
        "Try different sizes of network to see what differences result.\n",
        "\n",
        "What happens with small training sets and large networks?"
      ]
    }
  ]
}