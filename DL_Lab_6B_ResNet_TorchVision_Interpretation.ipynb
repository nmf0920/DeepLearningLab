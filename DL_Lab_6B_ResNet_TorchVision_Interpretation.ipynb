{
  "cells": [
    {
      "cell_type": "markdown",
      "metadata": {
        "id": "view-in-github",
        "colab_type": "text"
      },
      "source": [
        "<a href=\"https://colab.research.google.com/github/nmf0920/Feiii_code/blob/main/DL_Lab_6B_ResNet_TorchVision_Interpretation.ipynb\" target=\"_parent\"><img src=\"https://colab.research.google.com/assets/colab-badge.svg\" alt=\"Open In Colab\"/></a>"
      ]
    },
    {
      "cell_type": "markdown",
      "metadata": {
        "id": "tlpIsC3HmaA2"
      },
      "source": [
        "# Model Interpretation for Pretrained ResNet Model"
      ]
    },
    {
      "cell_type": "markdown",
      "metadata": {
        "id": "ZIkkcL7KmaA4"
      },
      "source": [
        "TorchVision is a PyTorch package that has been written to facilitate creating PyTorch models for image analysis. It contains both image data and pre-trained models for Image analysis such as AlexNet and different types of ResNet.\n",
        "\n",
        "This notebook demonstrates how to apply model interpretability algorithms on pretrained ResNet model using a handpicked image and visualizes the attributions for each pixel by overlaying them on the image.\n",
        "\n",
        "The interpretation algorithms that we use in this notebook are `Integrated Gradients` (w/ and w/o noise tunnel),  `GradientShap`, and `Occlusion`. A noise tunnel allows to smoothen the attributions after adding Gaussian noise to each input sample.\n",
        "  \n"
      ]
    },
    {
      "cell_type": "code",
      "execution_count": null,
      "metadata": {
        "id": "VN3J2SxlmaA5"
      },
      "outputs": [],
      "source": [
        "!pip install captum\n",
        "\n",
        "import torch\n",
        "import torch.nn.functional as F\n",
        "\n",
        "import urllib\n",
        "from PIL import Image\n",
        "\n",
        "import os\n",
        "import json\n",
        "import numpy as np\n",
        "from matplotlib.colors import LinearSegmentedColormap\n",
        "\n",
        "import torchvision\n",
        "from torchvision import models\n",
        "from torchvision import transforms\n",
        "\n",
        "from captum.attr import IntegratedGradients\n",
        "from captum.attr import GradientShap\n",
        "from captum.attr import Occlusion\n",
        "from captum.attr import NoiseTunnel\n",
        "from captum.attr import visualization as viz"
      ]
    },
    {
      "cell_type": "markdown",
      "metadata": {
        "id": "oxConFEJmaA7"
      },
      "source": [
        "## 1- Loading the model and the dataset\n"
      ]
    },
    {
      "cell_type": "markdown",
      "metadata": {
        "id": "0yAVjXFFmaA7"
      },
      "source": [
        "Loads pretrained Resnet model and sets it to eval mode"
      ]
    },
    {
      "cell_type": "code",
      "execution_count": null,
      "metadata": {
        "id": "W-zIKldsmaA7"
      },
      "outputs": [],
      "source": [
        "model = models.resnet18(pretrained=True)\n",
        "model = model.eval()"
      ]
    },
    {
      "cell_type": "markdown",
      "metadata": {
        "id": "QXXcmZjImaA7"
      },
      "source": [
        "Downloads the list of classes/labels for ImageNet dataset and reads them into the memory"
      ]
    },
    {
      "cell_type": "code",
      "execution_count": null,
      "metadata": {
        "id": "3_CCFNz2maA8"
      },
      "outputs": [],
      "source": [
        "!wget -P $HOME/.torch/models https://s3.amazonaws.com/deep-learning-models/image-models/imagenet_class_index.json"
      ]
    },
    {
      "cell_type": "code",
      "execution_count": null,
      "metadata": {
        "id": "wcCOb7T1maA9"
      },
      "outputs": [],
      "source": [
        "labels_path = os.getenv(\"HOME\") + '/.torch/models/imagenet_class_index.json'\n",
        "with open(labels_path) as json_data:\n",
        "    idx_to_labels = json.load(json_data)"
      ]
    },
    {
      "cell_type": "markdown",
      "metadata": {
        "id": "g1nZQwADmaA9"
      },
      "source": [
        "Defines transformers and normalizing functions for the image.\n",
        "It also loads an image from Captum's GitHub site that will be used for interpretation purposes."
      ]
    },
    {
      "cell_type": "code",
      "execution_count": null,
      "metadata": {
        "id": "N7FhFZ8AmaA9"
      },
      "outputs": [],
      "source": [
        "\n",
        "\n",
        "# Transfer the Swan image from Captum's github.\n",
        "urllib.request.urlretrieve(\"https://raw.githubusercontent.com/pytorch/captum/master/tutorials/img/resnet/swan-3299528_1280.jpg\", \"swan.jpg\")\n",
        "\n",
        "img = Image.open(\"swan.jpg\")\n",
        "\n",
        "img"
      ]
    },
    {
      "cell_type": "markdown",
      "source": [
        "# Can you work out what all the transformations below are doing to the image  to prepare the input for the network? What does the unsqueeze do?"
      ],
      "metadata": {
        "id": "R0iallfJlBvB"
      }
    },
    {
      "cell_type": "code",
      "source": [
        "transform = transforms.Compose([\n",
        " transforms.Resize(256),\n",
        " transforms.CenterCrop(224),\n",
        " transforms.ToTensor()\n",
        "])\n",
        "\n",
        "transform_normalize = transforms.Normalize(\n",
        "     mean=[0.485, 0.456, 0.406],\n",
        "     std=[0.229, 0.224, 0.225]\n",
        ")\n",
        "\n",
        "transformed_img = transform(img)\n",
        "\n",
        "input = transform_normalize(transformed_img)\n",
        "input = input.unsqueeze(0)\n"
      ],
      "metadata": {
        "id": "m7TL_vXJkwG8"
      },
      "execution_count": null,
      "outputs": []
    },
    {
      "cell_type": "markdown",
      "metadata": {
        "id": "Z30ZuMHrmaA-"
      },
      "source": [
        "Predict the class of the input image"
      ]
    },
    {
      "cell_type": "code",
      "execution_count": null,
      "metadata": {
        "id": "Wy8qTyPImaA-"
      },
      "outputs": [],
      "source": [
        "output = model(input)\n",
        "output = F.softmax(output, dim=1)\n",
        "prediction_score, pred_label_idx = torch.topk(output, 1)\n",
        "\n",
        "pred_label_idx.squeeze_()\n",
        "predicted_label = idx_to_labels[str(pred_label_idx.item())][1]\n",
        "print('Predicted:', predicted_label, '(', prediction_score.squeeze().item(), ')')\n"
      ]
    },
    {
      "cell_type": "markdown",
      "source": [
        "Why is it being predicted as a goose rather than a swan ?"
      ],
      "metadata": {
        "id": "rNLWT_5Girx9"
      }
    },
    {
      "cell_type": "markdown",
      "metadata": {
        "id": "OhI4PqkSmaA-"
      },
      "source": [
        "## 2- Gradient-based attribution"
      ]
    },
    {
      "cell_type": "markdown",
      "metadata": {
        "id": "0kRs98gcmaA-"
      },
      "source": [
        "Let's compute attributions using Integrated Gradients and visualize them on the image. Integrated gradients computes the integral of the gradients of the output of the model for the predicted class `pred_label_idx` with respect to the input image pixels along the path from the black image to our input image."
      ]
    },
    {
      "cell_type": "code",
      "execution_count": null,
      "metadata": {
        "id": "yGKsr8V6maA-"
      },
      "outputs": [],
      "source": [
        "print('Predicted:', predicted_label, '(', prediction_score.squeeze().item(), ')')\n",
        "\n",
        "integrated_gradients = IntegratedGradients(model)\n",
        "attributions_ig = integrated_gradients.attribute(input, target=pred_label_idx, n_steps=200)\n",
        "\n",
        "\n",
        "\n"
      ]
    },
    {
      "cell_type": "markdown",
      "metadata": {
        "id": "mJUeg6CumaA_"
      },
      "source": [
        "Let's visualize the image and corresponding attributions by overlaying the latter on the image."
      ]
    },
    {
      "cell_type": "code",
      "execution_count": null,
      "metadata": {
        "id": "94JtQ2eDmaA_"
      },
      "outputs": [],
      "source": [
        "default_cmap = LinearSegmentedColormap.from_list('custom blue',\n",
        "                                                 [(0, '#ffffff'),\n",
        "                                                  (0.25, '#000000'),\n",
        "                                                  (1, '#000000')], N=256)\n",
        "\n",
        "_ = viz.visualize_image_attr(np.transpose(attributions_ig.squeeze().cpu().detach().numpy(), (1,2,0)),\n",
        "                             np.transpose(transformed_img.squeeze().cpu().detach().numpy(), (1,2,0)),\n",
        "                             method='heat_map',\n",
        "                             cmap=default_cmap,\n",
        "                             show_colorbar=True,\n",
        "                             sign='positive',\n",
        "                             outlier_perc=1)"
      ]
    },
    {
      "cell_type": "markdown",
      "metadata": {
        "id": "8ugjb1inmaA_"
      },
      "source": [
        "Let us compute attributions using Integrated Gradients and smoothens them across multiple images generated by a <em>noise tunnel</em>. The latter adds gaussian noise with a std equals to one, 10 times (nt_samples=10) to the input. Ultimately, noise tunnel smoothens the attributions across `nt_samples` noisy samples using `smoothgrad_sq` technique. `smoothgrad_sq` represents the mean of the squared attributions across `nt_samples` samples."
      ]
    },
    {
      "cell_type": "code",
      "execution_count": null,
      "metadata": {
        "id": "e6L2-Xb7maBA"
      },
      "outputs": [],
      "source": [
        "noise_tunnel = NoiseTunnel(integrated_gradients)\n",
        "\n",
        "attributions_ig_nt = noise_tunnel.attribute(input, nt_samples=10, nt_type='smoothgrad_sq', target=pred_label_idx)\n",
        "_ = viz.visualize_image_attr_multiple(np.transpose(attributions_ig_nt.squeeze().cpu().detach().numpy(), (1,2,0)),\n",
        "                                      np.transpose(transformed_img.squeeze().cpu().detach().numpy(), (1,2,0)),\n",
        "                                      [\"original_image\", \"heat_map\"],\n",
        "                                      [\"all\", \"positive\"],\n",
        "                                      cmap=default_cmap,\n",
        "                                      show_colorbar=True)\n"
      ]
    },
    {
      "cell_type": "markdown",
      "metadata": {
        "id": "Sa_lG4iTmaBA"
      },
      "source": [
        "Finally, let us use `GradientShap`, a linear explanation model which uses a distribution of reference samples (in this case two images) to explain predictions of the model. It computes the expectation of gradients for an input which was chosen randomly between the input and a baseline. The baseline is also chosen randomly from given baseline distribution."
      ]
    },
    {
      "cell_type": "code",
      "execution_count": null,
      "metadata": {
        "id": "-E6jeF7KmaBA"
      },
      "outputs": [],
      "source": [
        "torch.manual_seed(0)\n",
        "np.random.seed(0)\n",
        "\n",
        "gradient_shap = GradientShap(model)\n",
        "\n",
        "# Defining baseline distribution of images\n",
        "rand_img_dist = torch.cat([input * 0, input * 1])\n",
        "\n",
        "attributions_gs = gradient_shap.attribute(input,\n",
        "                                          n_samples=50,\n",
        "                                          stdevs=0.0001,\n",
        "                                          baselines=rand_img_dist,\n",
        "                                          target=pred_label_idx)\n",
        "_ = viz.visualize_image_attr_multiple(np.transpose(attributions_gs.squeeze().cpu().detach().numpy(), (1,2,0)),\n",
        "                                      np.transpose(transformed_img.squeeze().cpu().detach().numpy(), (1,2,0)),\n",
        "                                      [\"original_image\", \"heat_map\"],\n",
        "                                      [\"all\", \"absolute_value\"],\n",
        "                                      cmap=default_cmap,\n",
        "                                      show_colorbar=True)\n"
      ]
    },
    {
      "cell_type": "markdown",
      "metadata": {
        "id": "uzne6WcEmaBA"
      },
      "source": [
        "## 3- Occlusion-based attribution"
      ]
    },
    {
      "cell_type": "markdown",
      "metadata": {
        "id": "NjvykAQ8maBB"
      },
      "source": [
        "Now let us try a different approach to attribution. We can estimate which areas of the image are critical for the classifier's decision by occluding them and quantifying how the decision changes.\n",
        "\n",
        "We run a sliding window of size 15x15 (defined via `sliding_window_shapes`) with a stride of 8 along both image dimensions (a defined via `strides`). At each location, we occlude the image with a baseline value of 0 which correspondes to a gray patch (defined via `baselines`).\n",
        "\n",
        "**Note:** this computation might take more than one minute to complete, as the model is evaluated at every position of the sliding window."
      ]
    },
    {
      "cell_type": "code",
      "execution_count": null,
      "metadata": {
        "id": "SmRmDNb0maBB"
      },
      "outputs": [],
      "source": [
        "occlusion = Occlusion(model)\n",
        "\n",
        "attributions_occ = occlusion.attribute(input,\n",
        "                                       strides = (3, 8, 8),\n",
        "                                       target=pred_label_idx,\n",
        "                                       sliding_window_shapes=(3,15, 15),\n",
        "                                       baselines=0)\n"
      ]
    },
    {
      "cell_type": "markdown",
      "metadata": {
        "id": "AHnkTRnqmaBB"
      },
      "source": [
        "Let us visualize the attribution, focusing on the areas with positive attribution (those that are critical for the classifier's decision):"
      ]
    },
    {
      "cell_type": "code",
      "execution_count": null,
      "metadata": {
        "scrolled": false,
        "id": "a8AEjnfnmaBB"
      },
      "outputs": [],
      "source": [
        "_ = viz.visualize_image_attr_multiple(np.transpose(attributions_occ.squeeze().cpu().detach().numpy(), (1,2,0)),\n",
        "                                      np.transpose(transformed_img.squeeze().cpu().detach().numpy(), (1,2,0)),\n",
        "                                      [\"original_image\", \"heat_map\"],\n",
        "                                      [\"all\", \"positive\"],\n",
        "                                      show_colorbar=True,\n",
        "                                      outlier_perc=2,\n",
        "                                     )\n"
      ]
    },
    {
      "cell_type": "markdown",
      "metadata": {
        "id": "YXChDyR6maBB"
      },
      "source": [
        "The upper part of the goose, especially the beak, seems to be the most critical for the model to predict this class.\n",
        "\n",
        "We can verify this further by occluding the image using a larger sliding window:"
      ]
    },
    {
      "cell_type": "code",
      "execution_count": null,
      "metadata": {
        "id": "ytdPfhkHmaBB"
      },
      "outputs": [],
      "source": [
        "occlusion = Occlusion(model)\n",
        "\n",
        "attributions_occ = occlusion.attribute(input,\n",
        "                                       strides = (3, 50, 50),\n",
        "                                       target=pred_label_idx,\n",
        "                                       sliding_window_shapes=(3,60, 60),\n",
        "                                       baselines=0)\n",
        "\n",
        "_ = viz.visualize_image_attr_multiple(np.transpose(attributions_occ.squeeze().cpu().detach().numpy(), (1,2,0)),\n",
        "                                      np.transpose(transformed_img.squeeze().cpu().detach().numpy(), (1,2,0)),\n",
        "                                      [\"original_image\", \"heat_map\"],\n",
        "                                      [\"all\", \"positive\"],\n",
        "                                      show_colorbar=True,\n",
        "                                      outlier_perc=2,\n",
        "                                     )"
      ]
    },
    {
      "cell_type": "markdown",
      "source": [
        "If you go back to the gradient attribution calculations - it can be seen that the beak does actually get a fairly strong attribution. But why are the feathers not strongly indicated in the occlusion based approach ?\n",
        "\n",
        "Think about how the occlusion-based method is actually working.\n"
      ],
      "metadata": {
        "id": "qppka5frh--d"
      }
    }
  ],
  "metadata": {
    "kernelspec": {
      "display_name": "Python 3",
      "language": "python",
      "name": "python3"
    },
    "language_info": {
      "codemirror_mode": {
        "name": "ipython",
        "version": 3
      },
      "file_extension": ".py",
      "mimetype": "text/x-python",
      "name": "python",
      "nbconvert_exporter": "python",
      "pygments_lexer": "ipython3",
      "version": "3.7.6"
    },
    "colab": {
      "provenance": [],
      "include_colab_link": true
    }
  },
  "nbformat": 4,
  "nbformat_minor": 0
}