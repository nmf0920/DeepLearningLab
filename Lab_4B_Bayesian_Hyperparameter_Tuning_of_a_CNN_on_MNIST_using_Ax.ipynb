{
  "cells": [
    {
      "cell_type": "markdown",
      "metadata": {
        "id": "view-in-github",
        "colab_type": "text"
      },
      "source": [
        "<a href=\"https://colab.research.google.com/github/nmf0920/Feiii_code/blob/main/Lab_4B_Bayesian_Hyperparameter_Tuning_of_a_CNN_on_MNIST_using_Ax.ipynb\" target=\"_parent\"><img src=\"https://colab.research.google.com/assets/colab-badge.svg\" alt=\"Open In Colab\"/></a>"
      ]
    },
    {
      "cell_type": "markdown",
      "id": "41eb6323",
      "metadata": {
        "collapsed": true,
        "customInput": null,
        "originalKey": "ac61b043-8ebf-43b9-9fa5-ed9a42a184ce",
        "papermill": {
          "duration": 0.007252,
          "end_time": "2023-12-09T18:40:47.585361",
          "exception": false,
          "start_time": "2023-12-09T18:40:47.578109",
          "status": "completed"
        },
        "showInput": false,
        "tags": [],
        "pycharm": {
          "name": "#%% md\n"
        },
        "id": "41eb6323"
      },
      "source": [
        "# Lab 4B: Bayesian Hyperparameter Tuning of a CNN on MNIST using Ax\n",
        "\n",
        "This tutorial walks through using Ax to tune two hyperparameters (learning rate and momentum) for a PyTorch CNN on the MNIST dataset trained using SGD with momentum. Adapted from https://ax.dev/tutorials/tune_cnn_service.html and a tutorial about the methods is available at https://ax.dev/docs/bayesopt.html\n"
      ]
    },
    {
      "cell_type": "code",
      "source": [
        "!pip3 install ax-platform"
      ],
      "metadata": {
        "id": "zVvIF44oyOsw"
      },
      "id": "zVvIF44oyOsw",
      "execution_count": null,
      "outputs": []
    },
    {
      "cell_type": "code",
      "execution_count": null,
      "id": "34eac0d3",
      "metadata": {
        "customInput": null,
        "customOutput": null,
        "execution": {
          "iopub.execute_input": "2023-12-09T18:40:47.599198Z",
          "iopub.status.busy": "2023-12-09T18:40:47.598712Z",
          "iopub.status.idle": "2023-12-09T18:40:50.785735Z",
          "shell.execute_reply": "2023-12-09T18:40:50.784772Z"
        },
        "executionStartTime": 1690415246079,
        "executionStopTime": 1690415266324,
        "originalKey": "c2b37f0f-3644-4367-912f-f775082f6676",
        "papermill": {
          "duration": 3.211351,
          "end_time": "2023-12-09T18:40:50.802975",
          "exception": false,
          "start_time": "2023-12-09T18:40:47.591624",
          "status": "completed"
        },
        "requestMsgId": "0b481630-f0f4-436a-a205-a25aa163a364",
        "showInput": true,
        "tags": [],
        "pycharm": {
          "name": "#%%\n"
        },
        "id": "34eac0d3"
      },
      "outputs": [],
      "source": [
        "import torch\n",
        "\n",
        "import torch.nn as nn\n",
        "import torch.nn.functional as F\n",
        "\n",
        "from ax.service.ax_client import AxClient, ObjectiveProperties\n",
        "from ax.service.utils.report_utils import exp_to_df\n",
        "from ax.utils.notebook.plotting import init_notebook_plotting, render\n",
        "from ax.utils.tutorials.cnn_utils import evaluate, load_mnist, train\n",
        "from torch._tensor import Tensor\n",
        "from torch.utils.data import DataLoader\n",
        "\n",
        "init_notebook_plotting(offline=True)\n",
        "\n",
        "import plotly.io as pio\n",
        "pio.renderers.default = \"colab\""
      ]
    },
    {
      "cell_type": "code",
      "execution_count": null,
      "id": "8fa9e641",
      "metadata": {
        "customInput": null,
        "customOutput": null,
        "execution": {
          "iopub.execute_input": "2023-12-09T18:40:50.884491Z",
          "iopub.status.busy": "2023-12-09T18:40:50.883919Z",
          "iopub.status.idle": "2023-12-09T18:40:50.888780Z",
          "shell.execute_reply": "2023-12-09T18:40:50.888131Z"
        },
        "executionStartTime": 1690415266521,
        "executionStopTime": 1690415266529,
        "originalKey": "4d0a27c4-a6ce-4b7d-97eb-1c229aabb375",
        "papermill": {
          "duration": 0.048216,
          "end_time": "2023-12-09T18:40:50.890399",
          "exception": false,
          "start_time": "2023-12-09T18:40:50.842183",
          "status": "completed"
        },
        "requestMsgId": "fd975d25-a185-4b09-a50f-7b2bcd89f93f",
        "showInput": true,
        "tags": [],
        "pycharm": {
          "name": "#%%\n"
        },
        "id": "8fa9e641"
      },
      "outputs": [],
      "source": [
        "torch.manual_seed(42)\n",
        "dtype = torch.float\n",
        "device = torch.device(\"cuda\" if torch.cuda.is_available() else \"cpu\")"
      ]
    },
    {
      "cell_type": "markdown",
      "id": "dfa07683",
      "metadata": {
        "customInput": null,
        "originalKey": "10384e51-444c-4265-b56d-ad078d05d2a1",
        "papermill": {
          "duration": 0.039062,
          "end_time": "2023-12-09T18:40:50.967987",
          "exception": false,
          "start_time": "2023-12-09T18:40:50.928925",
          "status": "completed"
        },
        "showInput": false,
        "tags": [],
        "pycharm": {
          "name": "#%% md\n"
        },
        "id": "dfa07683"
      },
      "source": [
        "## 1. Load MNIST data\n",
        "First, we need to load the MNIST data and partition it into training, validation, and test sets.\n",
        "\n",
        "Note: this will download the dataset if necessary."
      ]
    },
    {
      "cell_type": "code",
      "execution_count": null,
      "id": "dfc658bb",
      "metadata": {
        "customInput": null,
        "customOutput": null,
        "execution": {
          "iopub.execute_input": "2023-12-09T18:40:51.047442Z",
          "iopub.status.busy": "2023-12-09T18:40:51.046891Z",
          "iopub.status.idle": "2023-12-09T18:40:52.030073Z",
          "shell.execute_reply": "2023-12-09T18:40:52.029308Z"
        },
        "executionStartTime": 1690415266733,
        "executionStopTime": 1690415266902,
        "originalKey": "6f0949e2-1064-44b8-99c0-f6ce23df7c63",
        "papermill": {
          "duration": 1.024956,
          "end_time": "2023-12-09T18:40:52.031834",
          "exception": false,
          "start_time": "2023-12-09T18:40:51.006878",
          "status": "completed"
        },
        "requestMsgId": "8ce7dd21-9afb-4379-ad11-4112b4d27f8a",
        "showInput": true,
        "tags": [],
        "pycharm": {
          "name": "#%%\n"
        },
        "id": "dfc658bb"
      },
      "outputs": [],
      "source": [
        "BATCH_SIZE = 512\n",
        "train_loader, valid_loader, test_loader = load_mnist(batch_size=BATCH_SIZE)"
      ]
    },
    {
      "cell_type": "markdown",
      "id": "24345724",
      "metadata": {
        "customInput": null,
        "originalKey": "be39e4d6-f4b1-418b-b8e1-8461db582e0c",
        "papermill": {
          "duration": 0.039825,
          "end_time": "2023-12-09T18:40:52.111277",
          "exception": false,
          "start_time": "2023-12-09T18:40:52.071452",
          "status": "completed"
        },
        "showInput": false,
        "tags": [],
        "pycharm": {
          "name": "#%% md\n"
        },
        "id": "24345724"
      },
      "source": [
        "## 2. Initialize Client\n",
        "Create a client object to interface with Ax APIs. By default this runs locally without storage.\n",
        "\n"
      ]
    },
    {
      "cell_type": "code",
      "execution_count": null,
      "id": "58951549",
      "metadata": {
        "customInput": null,
        "customOutput": null,
        "execution": {
          "iopub.execute_input": "2023-12-09T18:40:52.192062Z",
          "iopub.status.busy": "2023-12-09T18:40:52.191415Z",
          "iopub.status.idle": "2023-12-09T18:40:52.195739Z",
          "shell.execute_reply": "2023-12-09T18:40:52.195078Z"
        },
        "executionStartTime": 1690415267018,
        "executionStopTime": 1690415267023,
        "originalKey": "14f154fc-8109-4115-b94a-016daf85bc6f",
        "papermill": {
          "duration": 0.046289,
          "end_time": "2023-12-09T18:40:52.197154",
          "exception": false,
          "start_time": "2023-12-09T18:40:52.150865",
          "status": "completed"
        },
        "requestMsgId": "7e1cd1ff-dc6e-423c-89b1-05762a7bcce2",
        "showInput": true,
        "tags": [],
        "pycharm": {
          "name": "#%%\n"
        },
        "id": "58951549"
      },
      "outputs": [],
      "source": [
        "ax_client = AxClient()"
      ]
    },
    {
      "cell_type": "markdown",
      "id": "0ecccbe0",
      "metadata": {
        "customInput": null,
        "originalKey": "f30a11d8-e7e8-4815-93a4-99b4aa531a17",
        "papermill": {
          "duration": 0.039559,
          "end_time": "2023-12-09T18:40:52.276511",
          "exception": false,
          "start_time": "2023-12-09T18:40:52.236952",
          "status": "completed"
        },
        "showInput": false,
        "tags": [],
        "pycharm": {
          "name": "#%% md\n"
        },
        "id": "0ecccbe0"
      },
      "source": [
        "## 3. Set up experiment\n",
        "An experiment consists of a **search space** (parameters and parameter constraints) and **optimization configuration** (objective name, minimization setting, and outcome constraints)."
      ]
    },
    {
      "cell_type": "code",
      "execution_count": null,
      "id": "2711e7f4",
      "metadata": {
        "customInput": null,
        "execution": {
          "iopub.execute_input": "2023-12-09T18:40:52.357454Z",
          "iopub.status.busy": "2023-12-09T18:40:52.356775Z",
          "iopub.status.idle": "2023-12-09T18:40:52.367291Z",
          "shell.execute_reply": "2023-12-09T18:40:52.366610Z"
        },
        "executionStartTime": 1690415267155,
        "executionStopTime": 1690415267171,
        "originalKey": "c6b4fe1b-692a-499e-88c9-50dbefdcfc15",
        "papermill": {
          "duration": 0.053162,
          "end_time": "2023-12-09T18:40:52.369151",
          "exception": false,
          "start_time": "2023-12-09T18:40:52.315989",
          "status": "completed"
        },
        "requestMsgId": "86409a5b-e66a-424e-8ac7-c0623a9c9ccf",
        "showInput": true,
        "tags": [],
        "pycharm": {
          "name": "#%%\n"
        },
        "id": "2711e7f4"
      },
      "outputs": [],
      "source": [
        "# Create an experiment with required arguments: name, parameters, and objective_name.\n",
        "ax_client.create_experiment(\n",
        "    name=\"tune_cnn_on_mnist\",  # The name of the experiment.\n",
        "    parameters=[\n",
        "        {\n",
        "            \"name\": \"lr\",  # The name of the parameter.\n",
        "            \"type\": \"range\",  # The type of the parameter (\"range\", \"choice\" or \"fixed\").\n",
        "            \"bounds\": [1e-6, 0.4],  # The bounds for range parameters.\n",
        "            # \"values\" The possible values for choice parameters .\n",
        "            # \"value\" The fixed value for fixed parameters.\n",
        "            \"value_type\": \"float\",  # Optional, the value type (\"int\", \"float\", \"bool\" or \"str\"). Defaults to inference from type of \"bounds\".\n",
        "            \"log_scale\": True,  # Optional, whether to use a log scale for range parameters. Defaults to False.\n",
        "            # \"is_ordered\" Optional, a flag for choice parameters.\n",
        "        },\n",
        "        {\n",
        "            \"name\": \"momentum\",\n",
        "            \"type\": \"range\",\n",
        "            \"bounds\": [0.0, 1.0],\n",
        "        },\n",
        "    ],\n",
        "    objectives={\"accuracy\": ObjectiveProperties(minimize=False)},  # The objective name and minimization setting.\n",
        "    # parameter_constraints: Optional, a list of strings of form \"p1 >= p2\" or \"p1 + p2 <= some_bound\".\n",
        "    # outcome_constraints: Optional, a list of strings of form \"constrained_metric <= some_bound\".\n",
        ")"
      ]
    },
    {
      "cell_type": "markdown",
      "id": "360d0fe0",
      "metadata": {
        "customInput": null,
        "originalKey": "af441a83-50fd-4385-a380-d8ebc570c0e5",
        "papermill": {
          "duration": 0.039973,
          "end_time": "2023-12-09T18:40:52.449201",
          "exception": false,
          "start_time": "2023-12-09T18:40:52.409228",
          "status": "completed"
        },
        "showInput": false,
        "tags": [],
        "pycharm": {
          "name": "#%% md\n"
        },
        "id": "360d0fe0"
      },
      "source": [
        "## 4. Define how to evaluate trials\n"
      ]
    },
    {
      "cell_type": "markdown",
      "id": "a59b6b86",
      "metadata": {
        "customInput": null,
        "originalKey": "c7630dfd-548b-408a-badf-b6abf79275e2",
        "papermill": {
          "duration": 0.039933,
          "end_time": "2023-12-09T18:40:52.529248",
          "exception": false,
          "start_time": "2023-12-09T18:40:52.489315",
          "status": "completed"
        },
        "showInput": false,
        "tags": [],
        "pycharm": {
          "name": "#%% md\n"
        },
        "id": "a59b6b86"
      },
      "source": [
        "First we define a simple CNN class to classify the MNIST images"
      ]
    },
    {
      "cell_type": "code",
      "execution_count": null,
      "id": "f186de08",
      "metadata": {
        "customInput": null,
        "customOutput": null,
        "execution": {
          "iopub.execute_input": "2023-12-09T18:40:52.610668Z",
          "iopub.status.busy": "2023-12-09T18:40:52.610383Z",
          "iopub.status.idle": "2023-12-09T18:40:52.615845Z",
          "shell.execute_reply": "2023-12-09T18:40:52.615225Z"
        },
        "executionStartTime": 1690415267282,
        "executionStopTime": 1690415267286,
        "originalKey": "e41fea0a-ae71-4e6f-8c0a-6eb6ae143fb0",
        "papermill": {
          "duration": 0.048335,
          "end_time": "2023-12-09T18:40:52.617485",
          "exception": false,
          "start_time": "2023-12-09T18:40:52.569150",
          "status": "completed"
        },
        "requestMsgId": "60f14ec9-eb1b-4e88-95c5-15c91f999c90",
        "showInput": true,
        "tags": [],
        "pycharm": {
          "name": "#%%\n"
        },
        "id": "f186de08"
      },
      "outputs": [],
      "source": [
        "class CNN(nn.Module):\n",
        "\n",
        "    def __init__(self) -> None:\n",
        "        super().__init__()\n",
        "        self.conv1 = nn.Conv2d(1, 20, kernel_size=5, stride=1)\n",
        "        self.fc1 = nn.Linear(8 * 8 * 20, 64)\n",
        "        self.fc2 = nn.Linear(64, 10)\n",
        "\n",
        "    def forward(self, x: Tensor) -> Tensor:\n",
        "        x = F.relu(self.conv1(x))\n",
        "        x = F.max_pool2d(x, 3, 3)\n",
        "        x = x.view(-1, 8 * 8 * 20)\n",
        "        x = F.relu(self.fc1(x))\n",
        "        x = self.fc2(x)\n",
        "        return F.log_softmax(x, dim=-1)"
      ]
    },
    {
      "cell_type": "markdown",
      "id": "a035ccfc",
      "metadata": {
        "customInput": null,
        "originalKey": "8ef6bcb9-c492-4874-b8c7-a07f7e6291ad",
        "papermill": {
          "duration": 0.039916,
          "end_time": "2023-12-09T18:40:52.697129",
          "exception": false,
          "start_time": "2023-12-09T18:40:52.657213",
          "status": "completed"
        },
        "showInput": false,
        "tags": [],
        "pycharm": {
          "name": "#%% md\n"
        },
        "id": "a035ccfc"
      },
      "source": [
        "In this tutorial, we want to optimize classification accuracy on the validation set as a function of the learning rate and momentum. The `train_evaluate` function takes in a parameterization (set of parameter values), computes the classification accuracy, and returns that metric."
      ]
    },
    {
      "cell_type": "code",
      "execution_count": null,
      "id": "ac35919b",
      "metadata": {
        "customInput": null,
        "customOutput": null,
        "execution": {
          "iopub.execute_input": "2023-12-09T18:40:52.779188Z",
          "iopub.status.busy": "2023-12-09T18:40:52.778568Z",
          "iopub.status.idle": "2023-12-09T18:40:52.783252Z",
          "shell.execute_reply": "2023-12-09T18:40:52.782607Z"
        },
        "executionStartTime": 1690415267388,
        "executionStopTime": 1690415267395,
        "originalKey": "a7e4bcc4-7494-429b-bb93-7ad84d0985af",
        "papermill": {
          "duration": 0.047372,
          "end_time": "2023-12-09T18:40:52.784645",
          "exception": false,
          "start_time": "2023-12-09T18:40:52.737273",
          "status": "completed"
        },
        "requestMsgId": "5d486dbf-60cb-453d-8f24-8605f974b0a7",
        "showInput": true,
        "tags": [],
        "pycharm": {
          "name": "#%%\n"
        },
        "id": "ac35919b"
      },
      "outputs": [],
      "source": [
        "def train_evaluate(parameterization):\n",
        "    \"\"\"\n",
        "    Train the model and then compute an evaluation metric.\n",
        "\n",
        "    In this tutorial, the CNN utils package is doing a lot of work\n",
        "    under the hood:\n",
        "        - `train` initializes the network, defines the loss function\n",
        "        and optimizer, performs the training loop, and returns the\n",
        "        trained model.\n",
        "        - `evaluate` computes the accuracy of the model on the\n",
        "        evaluation dataset and returns the metric.\n",
        "\n",
        "    For your use case, you can define training and evaluation functions\n",
        "    of your choosing.\n",
        "\n",
        "    \"\"\"\n",
        "    net = CNN()\n",
        "    net = train(\n",
        "        net=net,\n",
        "        train_loader=train_loader,\n",
        "        parameters=parameterization,\n",
        "        dtype=dtype,\n",
        "        device=device,\n",
        "    )\n",
        "\n",
        "    return evaluate(\n",
        "        net=net,\n",
        "        data_loader=valid_loader,\n",
        "        dtype=dtype,\n",
        "        device=device,\n",
        "    )\n"
      ]
    },
    {
      "cell_type": "markdown",
      "id": "b6d14a21",
      "metadata": {
        "customInput": null,
        "originalKey": "9ab127a8-021f-4ec8-9f4e-f4256a2e322a",
        "papermill": {
          "duration": 0.03985,
          "end_time": "2023-12-09T18:40:52.864459",
          "exception": false,
          "start_time": "2023-12-09T18:40:52.824609",
          "status": "completed"
        },
        "showInput": false,
        "tags": [],
        "pycharm": {
          "name": "#%% md\n"
        },
        "id": "b6d14a21"
      },
      "source": [
        "## 5. Run optimization loop\n"
      ]
    },
    {
      "cell_type": "markdown",
      "id": "4262c6c0",
      "metadata": {
        "customInput": null,
        "originalKey": "411a2fb4-e8a3-4414-bc17-09f0b5ba3e74",
        "papermill": {
          "duration": 0.039955,
          "end_time": "2023-12-09T18:40:52.944945",
          "exception": false,
          "start_time": "2023-12-09T18:40:52.904990",
          "status": "completed"
        },
        "showInput": false,
        "tags": [],
        "pycharm": {
          "name": "#%% md\n"
        },
        "id": "4262c6c0"
      },
      "source": [
        "First we use `attach_trial` to attach a custom trial with manually-chosen parameters. This step is optional, but we include it here to demonstrate adding manual trials and to serve as a baseline model with decent performance."
      ]
    },
    {
      "cell_type": "code",
      "execution_count": null,
      "id": "3ae664f0",
      "metadata": {
        "customInput": null,
        "execution": {
          "iopub.execute_input": "2023-12-09T18:40:53.026409Z",
          "iopub.status.busy": "2023-12-09T18:40:53.025895Z",
          "iopub.status.idle": "2023-12-09T18:40:59.795089Z",
          "shell.execute_reply": "2023-12-09T18:40:59.794478Z"
        },
        "executionStartTime": 1690415267533,
        "executionStopTime": 1690415287786,
        "originalKey": "1388ef55-5642-46ab-b297-c76a73a48aca",
        "papermill": {
          "duration": 6.811763,
          "end_time": "2023-12-09T18:40:59.796571",
          "exception": false,
          "start_time": "2023-12-09T18:40:52.984808",
          "status": "completed"
        },
        "requestMsgId": "b32a4981-ad59-46e1-b701-fa5a5f118d8b",
        "showInput": true,
        "tags": [],
        "pycharm": {
          "name": "#%%\n"
        },
        "id": "3ae664f0"
      },
      "outputs": [],
      "source": [
        "# Attach the trial\n",
        "ax_client.attach_trial(\n",
        "    parameters={\"lr\": 0.000026, \"momentum\": 0.58}\n",
        ")\n",
        "\n",
        "# Get the parameters and run the trial\n",
        "baseline_parameters = ax_client.get_trial_parameters(trial_index=0)\n",
        "ax_client.complete_trial(trial_index=0, raw_data=train_evaluate(baseline_parameters))"
      ]
    },
    {
      "cell_type": "markdown",
      "id": "eb4f7716",
      "metadata": {
        "customInput": null,
        "originalKey": "f0f886a1-c5c8-44bb-b2fd-9fa3f140357a",
        "papermill": {
          "duration": 0.040708,
          "end_time": "2023-12-09T18:40:59.877673",
          "exception": false,
          "start_time": "2023-12-09T18:40:59.836965",
          "status": "completed"
        },
        "showInput": false,
        "tags": [],
        "pycharm": {
          "name": "#%% md\n"
        },
        "id": "eb4f7716"
      },
      "source": [
        "Now we start the optimization loop.\n",
        "\n",
        "At each step, the user queries the client for a new trial then submits the evaluation of that trial back to the client.\n",
        "\n",
        "Note that Ax auto-selects an appropriate optimization algorithm based on the search space. For more advanced use cases that require a specific optimization algorithm, pass a `generation_strategy` argument into the `AxClient` constructor. Note that when Bayesian Optimization is used, generating new trials may take a few minutes."
      ]
    },
    {
      "cell_type": "code",
      "execution_count": null,
      "id": "7efd735d",
      "metadata": {
        "customInput": null,
        "customOutput": null,
        "execution": {
          "iopub.execute_input": "2023-12-09T18:40:59.960236Z",
          "iopub.status.busy": "2023-12-09T18:40:59.959925Z",
          "iopub.status.idle": "2023-12-09T18:43:59.453467Z",
          "shell.execute_reply": "2023-12-09T18:43:59.452755Z"
        },
        "executionStartTime": 1690415287908,
        "executionStopTime": 1690415945107,
        "originalKey": "bff5d714-1ab3-43d3-b9b3-8c3a53c81dcb",
        "papermill": {
          "duration": 179.536717,
          "end_time": "2023-12-09T18:43:59.455020",
          "exception": false,
          "start_time": "2023-12-09T18:40:59.918303",
          "status": "completed"
        },
        "requestMsgId": "a203534f-85dd-4dfa-9fa6-6aa46a0200a3",
        "showInput": true,
        "tags": [],
        "pycharm": {
          "name": "#%%\n"
        },
        "id": "7efd735d"
      },
      "outputs": [],
      "source": [
        "for i in range(10):\n",
        "    parameters, trial_index = ax_client.get_next_trial()\n",
        "    # Local evaluation here can be replaced with deployment to external system.\n",
        "    ax_client.complete_trial(trial_index=trial_index, raw_data=train_evaluate(parameters))"
      ]
    },
    {
      "cell_type": "markdown",
      "id": "16bb6fcf",
      "metadata": {
        "customInput": null,
        "originalKey": "ccd16059-db9f-475b-b527-75afb320e0f4",
        "papermill": {
          "duration": 0.041967,
          "end_time": "2023-12-09T18:43:59.539274",
          "exception": false,
          "start_time": "2023-12-09T18:43:59.497307",
          "status": "completed"
        },
        "showInput": false,
        "tags": [],
        "pycharm": {
          "name": "#%% md\n"
        },
        "id": "16bb6fcf"
      },
      "source": [
        "### How many trials can run in parallel?\n",
        "By default, Ax restricts number of trials that can run in parallel for some optimization stages, in order to improve the optimization performance and reduce the number of trials that the optimization will require. To check the maximum parallelism for each optimization stage:"
      ]
    },
    {
      "cell_type": "code",
      "execution_count": null,
      "id": "0e03ef5e",
      "metadata": {
        "customInput": null,
        "customOutput": null,
        "execution": {
          "iopub.execute_input": "2023-12-09T18:43:59.625446Z",
          "iopub.status.busy": "2023-12-09T18:43:59.624758Z",
          "iopub.status.idle": "2023-12-09T18:43:59.633503Z",
          "shell.execute_reply": "2023-12-09T18:43:59.632802Z"
        },
        "executionStartTime": 1690415945269,
        "executionStopTime": 1690415945336,
        "originalKey": "7182d2f9-912c-464c-b5ad-f65ce6f00017",
        "papermill": {
          "duration": 0.053586,
          "end_time": "2023-12-09T18:43:59.634918",
          "exception": false,
          "start_time": "2023-12-09T18:43:59.581332",
          "status": "completed"
        },
        "requestMsgId": "4cb4ff79-e45b-4c7d-86a1-7f8007eb2c81",
        "showInput": true,
        "tags": [],
        "pycharm": {
          "name": "#%%\n"
        },
        "id": "0e03ef5e"
      },
      "outputs": [],
      "source": [
        "ax_client.get_max_parallelism()"
      ]
    },
    {
      "cell_type": "markdown",
      "id": "acddb454",
      "metadata": {
        "customInput": null,
        "originalKey": "e2f429e6-2ec8-4af2-906b-52a36a53d329",
        "papermill": {
          "duration": 0.042436,
          "end_time": "2023-12-09T18:43:59.720096",
          "exception": false,
          "start_time": "2023-12-09T18:43:59.677660",
          "status": "completed"
        },
        "showInput": false,
        "tags": [],
        "pycharm": {
          "name": "#%% md\n"
        },
        "id": "acddb454"
      },
      "source": [
        "The output of this function is a list of tuples of form (number of trials, max parallelism), so the example above means \"the max parallelism is 5 for the first 5 trials and 3 for all subsequent trials.\" This is because the first 5 trials are produced quasi-randomly and can all be evaluated at once, and subsequent trials are produced via Bayesian optimization, which converges on optimal point in fewer trials when parallelism is limited. MaxParallelismReachedException indicates that the parallelism limit has been reached –– refer to the 'Service API Exceptions Meaning and Handling' section at the end of the tutorial for handling.\n",
        "\n"
      ]
    },
    {
      "cell_type": "markdown",
      "id": "7b0a9449",
      "metadata": {
        "customInput": null,
        "originalKey": "86c7aef9-993a-411e-add5-05839b00d3cf",
        "papermill": {
          "duration": 0.042306,
          "end_time": "2023-12-09T18:43:59.805001",
          "exception": false,
          "start_time": "2023-12-09T18:43:59.762695",
          "status": "completed"
        },
        "showInput": false,
        "tags": [],
        "pycharm": {
          "name": "#%% md\n"
        },
        "id": "7b0a9449"
      },
      "source": [
        "### How to view all existing trials during optimization?"
      ]
    },
    {
      "cell_type": "code",
      "execution_count": null,
      "id": "e6a214f4",
      "metadata": {
        "customInput": null,
        "execution": {
          "iopub.execute_input": "2023-12-09T18:43:59.897362Z",
          "iopub.status.busy": "2023-12-09T18:43:59.891884Z",
          "iopub.status.idle": "2023-12-09T18:43:59.933833Z",
          "shell.execute_reply": "2023-12-09T18:43:59.932237Z"
        },
        "executionStartTime": 1690415945532,
        "executionStopTime": 1690415946199,
        "originalKey": "3fbad5dc-863a-494e-b04f-d7dc1e47936c",
        "papermill": {
          "duration": 0.087844,
          "end_time": "2023-12-09T18:43:59.935463",
          "exception": false,
          "start_time": "2023-12-09T18:43:59.847619",
          "status": "completed"
        },
        "requestMsgId": "905ea8b6-add0-473e-8516-5be6ad7d7658",
        "showInput": true,
        "tags": [],
        "pycharm": {
          "name": "#%%\n"
        },
        "id": "e6a214f4"
      },
      "outputs": [],
      "source": [
        "ax_client.get_trials_data_frame()"
      ]
    },
    {
      "cell_type": "markdown",
      "id": "b0e797fd",
      "metadata": {
        "customInput": null,
        "originalKey": "9f1ebc55-e6f2-498f-9185-569227c2f3d5",
        "papermill": {
          "duration": 0.043229,
          "end_time": "2023-12-09T18:44:00.021888",
          "exception": false,
          "start_time": "2023-12-09T18:43:59.978659",
          "status": "completed"
        },
        "showInput": false,
        "tags": [],
        "pycharm": {
          "name": "#%% md\n"
        },
        "id": "b0e797fd"
      },
      "source": [
        "## 6. Retrieve best parameters\n",
        "\n",
        "Once it's complete, we can access the best parameters found, as well as the corresponding metric values. Note that these parameters may not necessarily be the set that yielded the highest _observed_ accuracy because Ax uses the highest model _predicted_ accuracy to choose the best parameters (see [here](https://ax.dev/api/service.html#module-ax.service.utils.best_point_mixin) for more details). Due to randomness in the data or the algorithm itself, using observed accuracy may result in choosing an outlier for the best set of parameters. Using the model predicted best will use the model to regularize the observations and reduce the likelihood of picking some outlier in the data."
      ]
    },
    {
      "cell_type": "code",
      "execution_count": null,
      "id": "6fdb65be",
      "metadata": {
        "customInput": null,
        "customOutput": null,
        "execution": {
          "iopub.execute_input": "2023-12-09T18:44:00.110079Z",
          "iopub.status.busy": "2023-12-09T18:44:00.109387Z",
          "iopub.status.idle": "2023-12-09T18:44:00.456972Z",
          "shell.execute_reply": "2023-12-09T18:44:00.456228Z"
        },
        "executionStartTime": 1690415946312,
        "executionStopTime": 1690415949198,
        "originalKey": "8fdf0023-2bf5-4cdd-93ea-a8a708dc6845",
        "papermill": {
          "duration": 0.393351,
          "end_time": "2023-12-09T18:44:00.458670",
          "exception": false,
          "start_time": "2023-12-09T18:44:00.065319",
          "status": "completed"
        },
        "requestMsgId": "c0b8c25d-c6ae-476e-be23-f1b963df296b",
        "showInput": true,
        "tags": [],
        "pycharm": {
          "name": "#%%\n"
        },
        "id": "6fdb65be"
      },
      "outputs": [],
      "source": [
        "best_parameters, values = ax_client.get_best_parameters()\n",
        "best_parameters"
      ]
    },
    {
      "cell_type": "code",
      "execution_count": null,
      "id": "0f32d37d",
      "metadata": {
        "customInput": null,
        "customOutput": null,
        "execution": {
          "iopub.execute_input": "2023-12-09T18:44:00.545634Z",
          "iopub.status.busy": "2023-12-09T18:44:00.545328Z",
          "iopub.status.idle": "2023-12-09T18:44:00.550361Z",
          "shell.execute_reply": "2023-12-09T18:44:00.549677Z"
        },
        "executionStartTime": 1690415949308,
        "executionStopTime": 1690415949313,
        "originalKey": "f3eb18fc-be99-494a-aeac-e9b05a3bc182",
        "papermill": {
          "duration": 0.050289,
          "end_time": "2023-12-09T18:44:00.551787",
          "exception": false,
          "start_time": "2023-12-09T18:44:00.501498",
          "status": "completed"
        },
        "requestMsgId": "ac214ea0-ea8c-46f2-a988-b42893ef6d6d",
        "showInput": true,
        "tags": [],
        "pycharm": {
          "name": "#%%\n"
        },
        "id": "0f32d37d"
      },
      "outputs": [],
      "source": [
        "mean, covariance = values\n",
        "mean, covariance"
      ]
    },
    {
      "cell_type": "markdown",
      "id": "1d451937",
      "metadata": {
        "customInput": null,
        "originalKey": "6be3b006-d090-4c73-a64a-12901d1af817",
        "papermill": {
          "duration": 0.042611,
          "end_time": "2023-12-09T18:44:00.637274",
          "exception": false,
          "start_time": "2023-12-09T18:44:00.594663",
          "status": "completed"
        },
        "showInput": false,
        "tags": [],
        "pycharm": {
          "name": "#%% md\n"
        },
        "id": "1d451937"
      },
      "source": [
        "## 7. Plot the response surface and optimization trace\n",
        "\n",
        "Contour plot showing classification accuracy as a function of the two hyperparameters.\n",
        "\n",
        "The black squares show points that we have actually run; notice how they are clustered in the optimal region."
      ]
    },
    {
      "cell_type": "code",
      "execution_count": null,
      "id": "495e0351",
      "metadata": {
        "customInput": null,
        "customOutput": null,
        "execution": {
          "iopub.execute_input": "2023-12-09T18:44:00.724642Z",
          "iopub.status.busy": "2023-12-09T18:44:00.724046Z",
          "iopub.status.idle": "2023-12-09T18:44:01.348874Z",
          "shell.execute_reply": "2023-12-09T18:44:01.348187Z"
        },
        "executionStartTime": 1690415949431,
        "executionStopTime": 1690415953540,
        "originalKey": "1beca759-2fa5-48d1-bfed-c9b13a054733",
        "papermill": {
          "duration": 0.673027,
          "end_time": "2023-12-09T18:44:01.353094",
          "exception": false,
          "start_time": "2023-12-09T18:44:00.680067",
          "status": "completed"
        },
        "requestMsgId": "fa48963e-b43c-4079-81a4-079d347fe9ba",
        "showInput": true,
        "tags": [],
        "pycharm": {
          "name": "#%%\n"
        },
        "id": "495e0351"
      },
      "outputs": [],
      "source": [
        "render(ax_client.get_contour_plot(param_x=\"lr\", param_y=\"momentum\", metric_name=\"accuracy\"))"
      ]
    },
    {
      "cell_type": "markdown",
      "id": "0b9e992b",
      "metadata": {
        "customInput": null,
        "originalKey": "5c91d83a-9a90-4ea0-8df9-9d242d998cb3",
        "papermill": {
          "duration": 0.057284,
          "end_time": "2023-12-09T18:44:01.467579",
          "exception": false,
          "start_time": "2023-12-09T18:44:01.410295",
          "status": "completed"
        },
        "showInput": false,
        "tags": [],
        "pycharm": {
          "name": "#%% md\n"
        },
        "id": "0b9e992b"
      },
      "source": [
        "Here we plot the optimization trace, showing the progression of finding the point with the optimal objective:\n",
        "\n"
      ]
    },
    {
      "cell_type": "code",
      "execution_count": null,
      "id": "e46404af",
      "metadata": {
        "customInput": null,
        "customOutput": null,
        "execution": {
          "iopub.execute_input": "2023-12-09T18:44:01.584155Z",
          "iopub.status.busy": "2023-12-09T18:44:01.583605Z",
          "iopub.status.idle": "2023-12-09T18:44:01.634123Z",
          "shell.execute_reply": "2023-12-09T18:44:01.633388Z"
        },
        "executionStartTime": 1690415953760,
        "executionStopTime": 1690415954260,
        "originalKey": "3a767bdf-7ef3-48e7-b853-6fae5e9e02ff",
        "papermill": {
          "duration": 0.114256,
          "end_time": "2023-12-09T18:44:01.638931",
          "exception": false,
          "start_time": "2023-12-09T18:44:01.524675",
          "status": "completed"
        },
        "requestMsgId": "043de459-6a28-4796-b237-808385c9e54c",
        "showInput": true,
        "tags": [],
        "pycharm": {
          "name": "#%%\n"
        },
        "id": "e46404af"
      },
      "outputs": [],
      "source": [
        "render(\n",
        "    ax_client.get_optimization_trace()\n",
        ")"
      ]
    },
    {
      "cell_type": "markdown",
      "id": "0a39cda1",
      "metadata": {
        "customInput": null,
        "executionStartTime": 1689617061294,
        "executionStopTime": 1689617061325,
        "originalKey": "09aaec9d-c178-42e2-b549-663cd17f8c3d",
        "papermill": {
          "duration": 0.060443,
          "end_time": "2023-12-09T18:44:01.760670",
          "exception": false,
          "start_time": "2023-12-09T18:44:01.700227",
          "status": "completed"
        },
        "requestMsgId": "09aaec9d-c178-42e2-b549-663cd17f8c3d",
        "showInput": false,
        "tags": [],
        "pycharm": {
          "name": "#%% md\n"
        },
        "id": "0a39cda1"
      },
      "source": [
        "## 8. Train CNN with best hyperparameters and evaluate on test set\n",
        "Note that the resulting accuracy on the test set generally won't be the same as the maximum accuracy achieved on the evaluation set throughout optimization."
      ]
    },
    {
      "cell_type": "code",
      "execution_count": null,
      "id": "b9804bd9",
      "metadata": {
        "customInput": null,
        "customOutput": null,
        "execution": {
          "iopub.execute_input": "2023-12-09T18:44:01.884190Z",
          "iopub.status.busy": "2023-12-09T18:44:01.883640Z",
          "iopub.status.idle": "2023-12-09T18:44:01.909109Z",
          "shell.execute_reply": "2023-12-09T18:44:01.907856Z"
        },
        "executionStartTime": 1690415954397,
        "executionStopTime": 1690415954452,
        "originalKey": "27f92d16-93c4-43bb-a37f-e7a1aeecd856",
        "papermill": {
          "duration": 0.089506,
          "end_time": "2023-12-09T18:44:01.911417",
          "exception": false,
          "start_time": "2023-12-09T18:44:01.821911",
          "status": "completed"
        },
        "requestMsgId": "07eba5ce-bebe-4588-8dbb-07553efeb2b0",
        "showInput": true,
        "tags": [],
        "pycharm": {
          "name": "#%%\n"
        },
        "id": "b9804bd9"
      },
      "outputs": [],
      "source": [
        "df = ax_client.get_trials_data_frame()\n",
        "best_arm_idx = df.trial_index[df[\"accuracy\"] == df[\"accuracy\"].max()].values[0]\n",
        "best_arm = ax_client.get_trial_parameters(best_arm_idx)\n",
        "best_arm"
      ]
    },
    {
      "cell_type": "code",
      "execution_count": null,
      "id": "baf43713",
      "metadata": {
        "customInput": null,
        "customOutput": null,
        "execution": {
          "iopub.execute_input": "2023-12-09T18:44:02.035333Z",
          "iopub.status.busy": "2023-12-09T18:44:02.034657Z",
          "iopub.status.idle": "2023-12-09T18:44:02.039352Z",
          "shell.execute_reply": "2023-12-09T18:44:02.038783Z"
        },
        "executionStartTime": 1690415954677,
        "executionStopTime": 1690415954681,
        "originalKey": "d0c7c645-c230-4654-a3b5-a01c61a09393",
        "papermill": {
          "duration": 0.067912,
          "end_time": "2023-12-09T18:44:02.040686",
          "exception": false,
          "start_time": "2023-12-09T18:44:01.972774",
          "status": "completed"
        },
        "requestMsgId": "0a962cef-65a1-4f95-9410-37a9a8e5c5ac",
        "showInput": true,
        "tags": [],
        "pycharm": {
          "name": "#%%\n"
        },
        "id": "baf43713"
      },
      "outputs": [],
      "source": [
        "combined_train_valid_set = torch.utils.data.ConcatDataset(\n",
        "    [\n",
        "        train_loader.dataset.dataset,\n",
        "        valid_loader.dataset.dataset,\n",
        "    ]\n",
        ")\n",
        "combined_train_valid_loader = torch.utils.data.DataLoader(\n",
        "    combined_train_valid_set,\n",
        "    batch_size=BATCH_SIZE,\n",
        "    shuffle=True,\n",
        ")"
      ]
    },
    {
      "cell_type": "code",
      "execution_count": null,
      "id": "a3837121",
      "metadata": {
        "customInput": null,
        "customOutput": null,
        "execution": {
          "iopub.execute_input": "2023-12-09T18:44:02.164539Z",
          "iopub.status.busy": "2023-12-09T18:44:02.163987Z",
          "iopub.status.idle": "2023-12-09T18:44:31.257140Z",
          "shell.execute_reply": "2023-12-09T18:44:31.256474Z"
        },
        "executionStartTime": 1690415954791,
        "executionStopTime": 1690416061340,
        "originalKey": "5695c78b-4c6e-4d35-ab08-6c60781bd8f1",
        "papermill": {
          "duration": 29.157211,
          "end_time": "2023-12-09T18:44:31.259152",
          "exception": false,
          "start_time": "2023-12-09T18:44:02.101941",
          "status": "completed"
        },
        "requestMsgId": "e22fa0c7-88cc-4d8a-bb7d-4f96fbae9a42",
        "showInput": true,
        "tags": [],
        "pycharm": {
          "name": "#%%\n"
        },
        "id": "a3837121"
      },
      "outputs": [],
      "source": [
        "net = train(\n",
        "    net=CNN(),\n",
        "    train_loader=combined_train_valid_loader,\n",
        "    parameters=best_arm,\n",
        "    dtype=dtype,\n",
        "    device=device,\n",
        ")\n",
        "test_accuracy = evaluate(\n",
        "    net=net,\n",
        "    data_loader=test_loader,\n",
        "    dtype=dtype,\n",
        "    device=device,\n",
        ")"
      ]
    },
    {
      "cell_type": "code",
      "execution_count": null,
      "id": "2e53b8d4",
      "metadata": {
        "customInput": null,
        "customOutput": null,
        "execution": {
          "iopub.execute_input": "2023-12-09T18:44:31.389704Z",
          "iopub.status.busy": "2023-12-09T18:44:31.389152Z",
          "iopub.status.idle": "2023-12-09T18:44:31.393555Z",
          "shell.execute_reply": "2023-12-09T18:44:31.392831Z"
        },
        "executionStartTime": 1690416061460,
        "executionStopTime": 1690416061467,
        "originalKey": "7522e229-9641-4383-a892-12c3f0a8011c",
        "papermill": {
          "duration": 0.073453,
          "end_time": "2023-12-09T18:44:31.394984",
          "exception": false,
          "start_time": "2023-12-09T18:44:31.321531",
          "status": "completed"
        },
        "requestMsgId": "5552d77d-9c9d-4712-9256-2cb3da836f2c",
        "showInput": true,
        "tags": [],
        "pycharm": {
          "name": "#%%\n"
        },
        "id": "2e53b8d4"
      },
      "outputs": [],
      "source": [
        "print(f\"Classification Accuracy (test set): {round(test_accuracy*100, 2)}%\")"
      ]
    },
    {
      "cell_type": "markdown",
      "source": [
        "Overall a good accuracy for this dataset. Both RayTune and Ax can be used to optimize hyperparameters in a PyTorch model (RayTune can even be used to optimize using the Ax package)."
      ],
      "metadata": {
        "id": "tj-8twRH6NrA"
      },
      "id": "tj-8twRH6NrA"
    }
  ],
  "metadata": {
    "fileHeader": "",
    "kernelspec": {
      "display_name": "Python 3 (ipykernel)",
      "language": "python",
      "name": "python3"
    },
    "language_info": {
      "codemirror_mode": {
        "name": "ipython",
        "version": 3
      },
      "file_extension": ".py",
      "mimetype": "text/x-python",
      "name": "python",
      "nbconvert_exporter": "python",
      "pygments_lexer": "ipython3",
      "version": "3.9.18"
    },
    "papermill": {
      "default_parameters": {},
      "duration": 229.165763,
      "end_time": "2023-12-09T18:44:35.988578",
      "environment_variables": {},
      "exception": null,
      "input_path": "/tmp/tmp.bwZKabbZig/Ax-main/tutorials/tune_cnn_service.ipynb",
      "output_path": "/tmp/tmp.bwZKabbZig/Ax-main/tutorials/tune_cnn_service.ipynb",
      "parameters": {},
      "start_time": "2023-12-09T18:40:46.822815",
      "version": "2.5.0"
    },
    "colab": {
      "provenance": [],
      "include_colab_link": true
    }
  },
  "nbformat": 4,
  "nbformat_minor": 5
}